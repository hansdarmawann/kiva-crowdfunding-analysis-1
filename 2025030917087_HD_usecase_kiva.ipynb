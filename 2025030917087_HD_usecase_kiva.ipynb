{
 "cells": [
  {
   "cell_type": "markdown",
   "metadata": {},
   "source": [
    "# Kiva Crowdfunding High-Level Activity Analysis Using EDA\n",
    "By: Hans Darmawan"
   ]
  },
  {
   "cell_type": "code",
   "execution_count": 196,
   "metadata": {},
   "outputs": [],
   "source": [
    "import pandas as pd\n",
    "import missingno as msno\n",
    "import seaborn as sns\n",
    "import matplotlib.pyplot as plt\n",
    "import numpy as np\n",
    "from scipy.stats import shapiro\n",
    "import warnings \n",
    "\n",
    "pd.set_option(\"display.float_format\", lambda x: \"%.2f\" % x)\n",
    "sns.set_theme(style=\"whitegrid\")\n",
    "warnings.filterwarnings('ignore') \n",
    "\n"
   ]
  },
  {
   "cell_type": "markdown",
   "metadata": {},
   "source": [
    "## 1. Background"
   ]
  },
  {
   "cell_type": "markdown",
   "metadata": {},
   "source": [
    "XYZ company is an investment company that exists in the world. Usually, the company have activities to invest the capital to small and medium enterprises. As the part of their CSR (Corporate Social Responsibility), the company have an idea to invest to the crowdfunding activities. While doing a research, the company found a website called Kiva.org. Kiva.org is an online crowdfunding site that helps the impoverished by lending more than $1 billion to more than 2 million people. The concept of this crowdfunding site by  determining the poverty level of each borrower is essential for setting investment priorities.\n",
    "\n",
    "After understanding the business processes of Kiva, the company have interests to lend their capital into the campaigns. But, because the company have a very small knowledge to determine which campaigns are eligible or not, the company have decided to do the analysis of campaign history datasets based on Kaggle. The company hope that with these analysis, they have directions to lend their capital into the campaigns those are suitable for theirs."
   ]
  },
  {
   "cell_type": "markdown",
   "metadata": {},
   "source": [
    "## 2. Scope of Work"
   ]
  },
  {
   "cell_type": "markdown",
   "metadata": {},
   "source": [
    "As the first time of exploring Kiva Datasets, there are scope of works needed to be stated, which are:\n",
    "- The historical data in the datasets might be not representative regarding to the current data.\n",
    "- The projects not involved the Machine Learning Feature due the approach is EDA. \n",
    "- The analysis scope will be univariate analysis for each categoric values and correlations for each numeric values."
   ]
  },
  {
   "cell_type": "markdown",
   "metadata": {},
   "source": [
    "## 3. Data Wrangling"
   ]
  },
  {
   "cell_type": "markdown",
   "metadata": {},
   "source": [
    "Before deep diving into the business perspectives, we need to do the data wrangling. This process is needed to ensure the raw data transformed into a format suitable for analysis. According to Pete Aven, data wrangling is the process of transforming data from one shape into another to prepare it for analysis and deliver some unified results."
   ]
  },
  {
   "cell_type": "markdown",
   "metadata": {},
   "source": [
    "### a. Discovery"
   ]
  },
  {
   "cell_type": "markdown",
   "metadata": {},
   "source": [
    "Loading the `kiva_loan.csv` via `pandas`.\n",
    "\n",
    "Please download the Kiva Dataset (`kiva_loan.csv`) from here:\n",
    "https://www.kaggle.com/datasets/kiva/data-science-for-good-kiva-crowdfunding?select=kiva_loans.csv"
   ]
  },
  {
   "cell_type": "code",
   "execution_count": 158,
   "metadata": {},
   "outputs": [
    {
     "data": {
      "text/html": [
       "<div>\n",
       "<style scoped>\n",
       "    .dataframe tbody tr th:only-of-type {\n",
       "        vertical-align: middle;\n",
       "    }\n",
       "\n",
       "    .dataframe tbody tr th {\n",
       "        vertical-align: top;\n",
       "    }\n",
       "\n",
       "    .dataframe thead th {\n",
       "        text-align: right;\n",
       "    }\n",
       "</style>\n",
       "<table border=\"1\" class=\"dataframe\">\n",
       "  <thead>\n",
       "    <tr style=\"text-align: right;\">\n",
       "      <th></th>\n",
       "      <th>id</th>\n",
       "      <th>funded_amount</th>\n",
       "      <th>loan_amount</th>\n",
       "      <th>activity</th>\n",
       "      <th>sector</th>\n",
       "      <th>use</th>\n",
       "      <th>country</th>\n",
       "      <th>region</th>\n",
       "      <th>currency</th>\n",
       "      <th>partner_id</th>\n",
       "      <th>posted_time</th>\n",
       "      <th>funded_time</th>\n",
       "      <th>term_in_months</th>\n",
       "      <th>lender_count</th>\n",
       "      <th>repayment_interval</th>\n",
       "    </tr>\n",
       "  </thead>\n",
       "  <tbody>\n",
       "    <tr>\n",
       "      <th>0</th>\n",
       "      <td>653051</td>\n",
       "      <td>300.00</td>\n",
       "      <td>300.00</td>\n",
       "      <td>Fruits &amp; Vegetables</td>\n",
       "      <td>Food</td>\n",
       "      <td>To buy seasonal, fresh fruits to sell.</td>\n",
       "      <td>Pakistan</td>\n",
       "      <td>Lahore</td>\n",
       "      <td>PKR</td>\n",
       "      <td>247.00</td>\n",
       "      <td>2014-01-01 06:12:39+00:00</td>\n",
       "      <td>2014-01-02 10:06:32+00:00</td>\n",
       "      <td>12.00</td>\n",
       "      <td>12</td>\n",
       "      <td>irregular</td>\n",
       "    </tr>\n",
       "    <tr>\n",
       "      <th>1</th>\n",
       "      <td>653053</td>\n",
       "      <td>575.00</td>\n",
       "      <td>575.00</td>\n",
       "      <td>Rickshaw</td>\n",
       "      <td>Transportation</td>\n",
       "      <td>to repair and maintain the auto rickshaw used ...</td>\n",
       "      <td>Pakistan</td>\n",
       "      <td>Lahore</td>\n",
       "      <td>PKR</td>\n",
       "      <td>247.00</td>\n",
       "      <td>2014-01-01 06:51:08+00:00</td>\n",
       "      <td>2014-01-02 09:17:23+00:00</td>\n",
       "      <td>11.00</td>\n",
       "      <td>14</td>\n",
       "      <td>irregular</td>\n",
       "    </tr>\n",
       "    <tr>\n",
       "      <th>2</th>\n",
       "      <td>653068</td>\n",
       "      <td>150.00</td>\n",
       "      <td>150.00</td>\n",
       "      <td>Transportation</td>\n",
       "      <td>Transportation</td>\n",
       "      <td>To repair their old cycle-van and buy another ...</td>\n",
       "      <td>India</td>\n",
       "      <td>Maynaguri</td>\n",
       "      <td>INR</td>\n",
       "      <td>334.00</td>\n",
       "      <td>2014-01-01 09:58:07+00:00</td>\n",
       "      <td>2014-01-01 16:01:36+00:00</td>\n",
       "      <td>43.00</td>\n",
       "      <td>6</td>\n",
       "      <td>bullet</td>\n",
       "    </tr>\n",
       "    <tr>\n",
       "      <th>3</th>\n",
       "      <td>653063</td>\n",
       "      <td>200.00</td>\n",
       "      <td>200.00</td>\n",
       "      <td>Embroidery</td>\n",
       "      <td>Arts</td>\n",
       "      <td>to purchase an embroidery machine and a variet...</td>\n",
       "      <td>Pakistan</td>\n",
       "      <td>Lahore</td>\n",
       "      <td>PKR</td>\n",
       "      <td>247.00</td>\n",
       "      <td>2014-01-01 08:03:11+00:00</td>\n",
       "      <td>2014-01-01 13:00:00+00:00</td>\n",
       "      <td>11.00</td>\n",
       "      <td>8</td>\n",
       "      <td>irregular</td>\n",
       "    </tr>\n",
       "    <tr>\n",
       "      <th>4</th>\n",
       "      <td>653084</td>\n",
       "      <td>400.00</td>\n",
       "      <td>400.00</td>\n",
       "      <td>Milk Sales</td>\n",
       "      <td>Food</td>\n",
       "      <td>to purchase one buffalo.</td>\n",
       "      <td>Pakistan</td>\n",
       "      <td>Abdul Hakeem</td>\n",
       "      <td>PKR</td>\n",
       "      <td>245.00</td>\n",
       "      <td>2014-01-01 11:53:19+00:00</td>\n",
       "      <td>2014-01-01 19:18:51+00:00</td>\n",
       "      <td>14.00</td>\n",
       "      <td>16</td>\n",
       "      <td>monthly</td>\n",
       "    </tr>\n",
       "  </tbody>\n",
       "</table>\n",
       "</div>"
      ],
      "text/plain": [
       "       id  funded_amount  loan_amount             activity          sector  \\\n",
       "0  653051         300.00       300.00  Fruits & Vegetables            Food   \n",
       "1  653053         575.00       575.00             Rickshaw  Transportation   \n",
       "2  653068         150.00       150.00       Transportation  Transportation   \n",
       "3  653063         200.00       200.00           Embroidery            Arts   \n",
       "4  653084         400.00       400.00           Milk Sales            Food   \n",
       "\n",
       "                                                 use   country        region  \\\n",
       "0            To buy seasonal, fresh fruits to sell.   Pakistan        Lahore   \n",
       "1  to repair and maintain the auto rickshaw used ...  Pakistan        Lahore   \n",
       "2  To repair their old cycle-van and buy another ...     India     Maynaguri   \n",
       "3  to purchase an embroidery machine and a variet...  Pakistan        Lahore   \n",
       "4                           to purchase one buffalo.  Pakistan  Abdul Hakeem   \n",
       "\n",
       "  currency  partner_id                posted_time                funded_time  \\\n",
       "0      PKR      247.00  2014-01-01 06:12:39+00:00  2014-01-02 10:06:32+00:00   \n",
       "1      PKR      247.00  2014-01-01 06:51:08+00:00  2014-01-02 09:17:23+00:00   \n",
       "2      INR      334.00  2014-01-01 09:58:07+00:00  2014-01-01 16:01:36+00:00   \n",
       "3      PKR      247.00  2014-01-01 08:03:11+00:00  2014-01-01 13:00:00+00:00   \n",
       "4      PKR      245.00  2014-01-01 11:53:19+00:00  2014-01-01 19:18:51+00:00   \n",
       "\n",
       "   term_in_months  lender_count repayment_interval  \n",
       "0           12.00            12          irregular  \n",
       "1           11.00            14          irregular  \n",
       "2           43.00             6             bullet  \n",
       "3           11.00             8          irregular  \n",
       "4           14.00            16            monthly  "
      ]
     },
     "execution_count": 158,
     "metadata": {},
     "output_type": "execute_result"
    }
   ],
   "source": [
    "df = pd.read_csv(\"kiva_loan.csv\")\n",
    "df.head()"
   ]
  },
  {
   "cell_type": "markdown",
   "metadata": {},
   "source": [
    "Regarding on the 5 tops data and information on the Kaggle, here are the list of the columns and their description:"
   ]
  },
  {
   "cell_type": "markdown",
   "metadata": {},
   "source": [
    "| Column Id     | Description                                                  |\n",
    "|---------------|--------------------------------------------------------------|\n",
    "| id            | Unique ID for loan                                           |\n",
    "| funded_amount | The amount disbursed by Kiva to the field agent(USD)         |\n",
    "| loan_amount   | The amount disbursed by the field agent to the borrower(USD) |\n",
    "| activity      | More granular category                                       |\n",
    "| sector        | High level category                                          |\n",
    "| use           | Exact usage of loan amount                                   |\n",
    "| country_code  | ISO country code of country in which loan was disbursed      |\n",
    "| country       | Full country name of country in which loan was disbursed     |\n",
    "| region        | Full region name within the country                          |\n",
    "| currency      | The currency in which the loan was disbursed                 |"
   ]
  },
  {
   "cell_type": "markdown",
   "metadata": {},
   "source": [
    "### b. Structuring"
   ]
  },
  {
   "cell_type": "markdown",
   "metadata": {},
   "source": [
    "Exploring the structure of the data (as known as the metadata)."
   ]
  },
  {
   "cell_type": "code",
   "execution_count": 159,
   "metadata": {},
   "outputs": [
    {
     "name": "stdout",
     "output_type": "stream",
     "text": [
      "<class 'pandas.core.frame.DataFrame'>\n",
      "RangeIndex: 671205 entries, 0 to 671204\n",
      "Data columns (total 15 columns):\n",
      " #   Column              Non-Null Count   Dtype  \n",
      "---  ------              --------------   -----  \n",
      " 0   id                  671205 non-null  int64  \n",
      " 1   funded_amount       671205 non-null  float64\n",
      " 2   loan_amount         671205 non-null  float64\n",
      " 3   activity            671205 non-null  object \n",
      " 4   sector              671205 non-null  object \n",
      " 5   use                 666973 non-null  object \n",
      " 6   country             671205 non-null  object \n",
      " 7   region              614405 non-null  object \n",
      " 8   currency            671205 non-null  object \n",
      " 9   partner_id          657698 non-null  float64\n",
      " 10  posted_time         671205 non-null  object \n",
      " 11  funded_time         622874 non-null  object \n",
      " 12  term_in_months      671205 non-null  float64\n",
      " 13  lender_count        671205 non-null  int64  \n",
      " 14  repayment_interval  671205 non-null  object \n",
      "dtypes: float64(4), int64(2), object(9)\n",
      "memory usage: 76.8+ MB\n"
     ]
    }
   ],
   "source": [
    "df.info()"
   ]
  },
  {
   "cell_type": "markdown",
   "metadata": {},
   "source": [
    "Some of these values can be converted into several data types. The *_time columns will be converted into datetime data type."
   ]
  },
  {
   "cell_type": "code",
   "execution_count": 160,
   "metadata": {},
   "outputs": [],
   "source": [
    "datetime64 = [\"posted_time\", \"funded_time\"]\n",
    "for items in datetime64:\n",
    "    df[items] = pd.to_datetime(df[items])"
   ]
  },
  {
   "cell_type": "markdown",
   "metadata": {},
   "source": [
    "All object data types (except use) will be converted into category data type."
   ]
  },
  {
   "cell_type": "code",
   "execution_count": 161,
   "metadata": {},
   "outputs": [],
   "source": [
    "categories =[\"id\", \"activity\", \"sector\", \"country\", \"region\", \"currency\", \"partner_id\", \"repayment_interval\"]\n",
    "df[categories] = df[categories].astype(\"category\")"
   ]
  },
  {
   "cell_type": "markdown",
   "metadata": {},
   "source": [
    "Seeing the structure again after converting several informations into several data types."
   ]
  },
  {
   "cell_type": "code",
   "execution_count": 162,
   "metadata": {},
   "outputs": [
    {
     "name": "stdout",
     "output_type": "stream",
     "text": [
      "<class 'pandas.core.frame.DataFrame'>\n",
      "RangeIndex: 671205 entries, 0 to 671204\n",
      "Data columns (total 15 columns):\n",
      " #   Column              Non-Null Count   Dtype              \n",
      "---  ------              --------------   -----              \n",
      " 0   id                  671205 non-null  category           \n",
      " 1   funded_amount       671205 non-null  float64            \n",
      " 2   loan_amount         671205 non-null  float64            \n",
      " 3   activity            671205 non-null  category           \n",
      " 4   sector              671205 non-null  category           \n",
      " 5   use                 666973 non-null  object             \n",
      " 6   country             671205 non-null  category           \n",
      " 7   region              614405 non-null  category           \n",
      " 8   currency            671205 non-null  category           \n",
      " 9   partner_id          657698 non-null  category           \n",
      " 10  posted_time         671205 non-null  datetime64[ns, UTC]\n",
      " 11  funded_time         622874 non-null  datetime64[ns, UTC]\n",
      " 12  term_in_months      671205 non-null  float64            \n",
      " 13  lender_count        671205 non-null  int64              \n",
      " 14  repayment_interval  671205 non-null  category           \n",
      "dtypes: category(8), datetime64[ns, UTC](2), float64(3), int64(1), object(1)\n",
      "memory usage: 66.7+ MB\n"
     ]
    }
   ],
   "source": [
    "df.info()"
   ]
  },
  {
   "cell_type": "markdown",
   "metadata": {},
   "source": [
    "Founded that the memory usage decreased from 76 MB to 48 MB."
   ]
  },
  {
   "cell_type": "markdown",
   "metadata": {},
   "source": [
    "### c. Cleaning"
   ]
  },
  {
   "cell_type": "markdown",
   "metadata": {},
   "source": [
    "Checking duplicated values."
   ]
  },
  {
   "cell_type": "code",
   "execution_count": 163,
   "metadata": {},
   "outputs": [
    {
     "data": {
      "text/plain": [
       "0"
      ]
     },
     "execution_count": 163,
     "metadata": {},
     "output_type": "execute_result"
    }
   ],
   "source": [
    "df.duplicated().sum()"
   ]
  },
  {
   "cell_type": "markdown",
   "metadata": {},
   "source": [
    "Founded that there are no duplicated values in this data. Now, checking on the missing values."
   ]
  },
  {
   "cell_type": "code",
   "execution_count": 164,
   "metadata": {},
   "outputs": [
    {
     "data": {
      "text/plain": [
       "id                        0\n",
       "funded_amount             0\n",
       "loan_amount               0\n",
       "activity                  0\n",
       "sector                    0\n",
       "use                    4232\n",
       "country                   0\n",
       "region                56800\n",
       "currency                  0\n",
       "partner_id            13507\n",
       "posted_time               0\n",
       "funded_time           48331\n",
       "term_in_months            0\n",
       "lender_count              0\n",
       "repayment_interval        0\n",
       "dtype: int64"
      ]
     },
     "execution_count": 164,
     "metadata": {},
     "output_type": "execute_result"
    }
   ],
   "source": [
    "df.isnull().sum()"
   ]
  },
  {
   "cell_type": "markdown",
   "metadata": {},
   "source": [
    "Based on the informations above, founded that there are 4 columns having the empty values."
   ]
  },
  {
   "cell_type": "code",
   "execution_count": 165,
   "metadata": {},
   "outputs": [
    {
     "data": {
      "text/plain": [
       "<Axes: >"
      ]
     },
     "execution_count": 165,
     "metadata": {},
     "output_type": "execute_result"
    },
    {
     "data": {
      "image/png": "[encoded data removed]",
      "text/plain": [
       "<Figure size 2500x1000 with 2 Axes>"
      ]
     },
     "metadata": {},
     "output_type": "display_data"
    }
   ],
   "source": [
    "msno.matrix(df)"
   ]
  },
  {
   "cell_type": "markdown",
   "metadata": {},
   "source": [
    "The columns those having missing values will be still useful for the analysis, so it is decided that all of the columns won't be dropped. Instead of dropping them, we can fill out the empty values. For the `use` columns, \"Not Available\" will be filled."
   ]
  },
  {
   "cell_type": "code",
   "execution_count": 166,
   "metadata": {},
   "outputs": [],
   "source": [
    "df[\"use\"] = df[\"use\"].fillna(\"Not Available\")"
   ]
  },
  {
   "cell_type": "markdown",
   "metadata": {},
   "source": [
    "For `partner_id,` it will be filled with zeros."
   ]
  },
  {
   "cell_type": "code",
   "execution_count": 167,
   "metadata": {},
   "outputs": [],
   "source": [
    "df[\"partner_id\"] = df[\"partner_id\"].astype(\"object\") #need to reconvert to object because we cannot directly fill zeros with category type.\n",
    "df[\"partner_id\"] = df[\"partner_id\"].fillna(\"0\")\n",
    "df[\"partner_id\"] = df[\"partner_id\"].astype(\"category\")"
   ]
  },
  {
   "cell_type": "markdown",
   "metadata": {},
   "source": [
    "Same like `use` columns, the `region` will be also filled with \"Not available,\" but the treatment will be same like `partner_id`."
   ]
  },
  {
   "cell_type": "code",
   "execution_count": 168,
   "metadata": {},
   "outputs": [],
   "source": [
    "df[\"region\"] = df[\"region\"].astype(\"object\")\n",
    "df[\"region\"] = df[\"region\"].fillna(\"Not Available\")\n",
    "df[\"region\"] = df[\"region\"].astype(\"category\")"
   ]
  },
  {
   "cell_type": "markdown",
   "metadata": {},
   "source": [
    "And then, for `funded_time,` it will be filled with \"1900-01-01 00:00:00+00:00.\""
   ]
  },
  {
   "cell_type": "code",
   "execution_count": 169,
   "metadata": {},
   "outputs": [],
   "source": [
    "df[\"funded_time\"] = df[\"funded_time\"].fillna(\"1900-01-01 00:00:00+00:00\")"
   ]
  },
  {
   "cell_type": "markdown",
   "metadata": {},
   "source": [
    "Seeing the matrix again after done filling the missing values."
   ]
  },
  {
   "cell_type": "code",
   "execution_count": 170,
   "metadata": {},
   "outputs": [
    {
     "data": {
      "text/plain": [
       "<Axes: >"
      ]
     },
     "execution_count": 170,
     "metadata": {},
     "output_type": "execute_result"
    },
    {
     "data": {
      "image/png": "[encoded data removed]",
      "text/plain": [
       "<Figure size 2500x1000 with 2 Axes>"
      ]
     },
     "metadata": {},
     "output_type": "display_data"
    }
   ],
   "source": [
    "msno.matrix(df)"
   ]
  },
  {
   "cell_type": "markdown",
   "metadata": {},
   "source": [
    "Finally, no missing values and good to go for next steps !"
   ]
  },
  {
   "cell_type": "markdown",
   "metadata": {},
   "source": [
    "### d. Enriching"
   ]
  },
  {
   "cell_type": "markdown",
   "metadata": {},
   "source": [
    "The `kiva_loan.csv` does not have the information of currency names. So in this case, we will add the lookup columns based on `iso_4217_currencies.csv` `Currency` columns into `kiva_loan.csv` `currency` columns. `df2` will be refer to `iso_4217_currencies.csv` and `df` will be refer to `kiva_loan.csv`. Here we have 2 different datasets head:"
   ]
  },
  {
   "cell_type": "code",
   "execution_count": 171,
   "metadata": {},
   "outputs": [
    {
     "data": {
      "text/html": [
       "<div>\n",
       "<style scoped>\n",
       "    .dataframe tbody tr th:only-of-type {\n",
       "        vertical-align: middle;\n",
       "    }\n",
       "\n",
       "    .dataframe tbody tr th {\n",
       "        vertical-align: top;\n",
       "    }\n",
       "\n",
       "    .dataframe thead th {\n",
       "        text-align: right;\n",
       "    }\n",
       "</style>\n",
       "<table border=\"1\" class=\"dataframe\">\n",
       "  <thead>\n",
       "    <tr style=\"text-align: right;\">\n",
       "      <th></th>\n",
       "      <th>Entity</th>\n",
       "      <th>Currency</th>\n",
       "      <th>Code</th>\n",
       "      <th>Minor Unit</th>\n",
       "    </tr>\n",
       "  </thead>\n",
       "  <tbody>\n",
       "    <tr>\n",
       "      <th>0</th>\n",
       "      <td>AFGHANISTAN</td>\n",
       "      <td>Afghani</td>\n",
       "      <td>AFN</td>\n",
       "      <td>2</td>\n",
       "    </tr>\n",
       "    <tr>\n",
       "      <th>1</th>\n",
       "      <td>ÅLAND ISLANDS</td>\n",
       "      <td>Euro</td>\n",
       "      <td>EUR</td>\n",
       "      <td>2</td>\n",
       "    </tr>\n",
       "    <tr>\n",
       "      <th>2</th>\n",
       "      <td>ALBANIA</td>\n",
       "      <td>Lek</td>\n",
       "      <td>ALL</td>\n",
       "      <td>2</td>\n",
       "    </tr>\n",
       "    <tr>\n",
       "      <th>3</th>\n",
       "      <td>ALGERIA</td>\n",
       "      <td>Algerian Dinar</td>\n",
       "      <td>DZD</td>\n",
       "      <td>2</td>\n",
       "    </tr>\n",
       "    <tr>\n",
       "      <th>4</th>\n",
       "      <td>AMERICAN SAMOA</td>\n",
       "      <td>US Dollar</td>\n",
       "      <td>USD</td>\n",
       "      <td>2</td>\n",
       "    </tr>\n",
       "  </tbody>\n",
       "</table>\n",
       "</div>"
      ],
      "text/plain": [
       "           Entity        Currency Code Minor Unit\n",
       "0     AFGHANISTAN         Afghani  AFN          2\n",
       "1   ÅLAND ISLANDS            Euro  EUR          2\n",
       "2         ALBANIA             Lek  ALL          2\n",
       "3         ALGERIA  Algerian Dinar  DZD          2\n",
       "4  AMERICAN SAMOA       US Dollar  USD          2"
      ]
     },
     "execution_count": 171,
     "metadata": {},
     "output_type": "execute_result"
    }
   ],
   "source": [
    "df2 = pd.read_csv(\"iso_4217_currencies.csv\", sep=\";\")\n",
    "df2.head()"
   ]
  },
  {
   "cell_type": "code",
   "execution_count": 172,
   "metadata": {},
   "outputs": [
    {
     "data": {
      "text/html": [
       "<div>\n",
       "<style scoped>\n",
       "    .dataframe tbody tr th:only-of-type {\n",
       "        vertical-align: middle;\n",
       "    }\n",
       "\n",
       "    .dataframe tbody tr th {\n",
       "        vertical-align: top;\n",
       "    }\n",
       "\n",
       "    .dataframe thead th {\n",
       "        text-align: right;\n",
       "    }\n",
       "</style>\n",
       "<table border=\"1\" class=\"dataframe\">\n",
       "  <thead>\n",
       "    <tr style=\"text-align: right;\">\n",
       "      <th></th>\n",
       "      <th>id</th>\n",
       "      <th>funded_amount</th>\n",
       "      <th>loan_amount</th>\n",
       "      <th>activity</th>\n",
       "      <th>sector</th>\n",
       "      <th>use</th>\n",
       "      <th>country</th>\n",
       "      <th>region</th>\n",
       "      <th>currency</th>\n",
       "      <th>partner_id</th>\n",
       "      <th>posted_time</th>\n",
       "      <th>funded_time</th>\n",
       "      <th>term_in_months</th>\n",
       "      <th>lender_count</th>\n",
       "      <th>repayment_interval</th>\n",
       "    </tr>\n",
       "  </thead>\n",
       "  <tbody>\n",
       "    <tr>\n",
       "      <th>0</th>\n",
       "      <td>653051</td>\n",
       "      <td>300.00</td>\n",
       "      <td>300.00</td>\n",
       "      <td>Fruits &amp; Vegetables</td>\n",
       "      <td>Food</td>\n",
       "      <td>To buy seasonal, fresh fruits to sell.</td>\n",
       "      <td>Pakistan</td>\n",
       "      <td>Lahore</td>\n",
       "      <td>PKR</td>\n",
       "      <td>247.00</td>\n",
       "      <td>2014-01-01 06:12:39+00:00</td>\n",
       "      <td>2014-01-02 10:06:32+00:00</td>\n",
       "      <td>12.00</td>\n",
       "      <td>12</td>\n",
       "      <td>irregular</td>\n",
       "    </tr>\n",
       "    <tr>\n",
       "      <th>1</th>\n",
       "      <td>653053</td>\n",
       "      <td>575.00</td>\n",
       "      <td>575.00</td>\n",
       "      <td>Rickshaw</td>\n",
       "      <td>Transportation</td>\n",
       "      <td>to repair and maintain the auto rickshaw used ...</td>\n",
       "      <td>Pakistan</td>\n",
       "      <td>Lahore</td>\n",
       "      <td>PKR</td>\n",
       "      <td>247.00</td>\n",
       "      <td>2014-01-01 06:51:08+00:00</td>\n",
       "      <td>2014-01-02 09:17:23+00:00</td>\n",
       "      <td>11.00</td>\n",
       "      <td>14</td>\n",
       "      <td>irregular</td>\n",
       "    </tr>\n",
       "    <tr>\n",
       "      <th>2</th>\n",
       "      <td>653068</td>\n",
       "      <td>150.00</td>\n",
       "      <td>150.00</td>\n",
       "      <td>Transportation</td>\n",
       "      <td>Transportation</td>\n",
       "      <td>To repair their old cycle-van and buy another ...</td>\n",
       "      <td>India</td>\n",
       "      <td>Maynaguri</td>\n",
       "      <td>INR</td>\n",
       "      <td>334.00</td>\n",
       "      <td>2014-01-01 09:58:07+00:00</td>\n",
       "      <td>2014-01-01 16:01:36+00:00</td>\n",
       "      <td>43.00</td>\n",
       "      <td>6</td>\n",
       "      <td>bullet</td>\n",
       "    </tr>\n",
       "    <tr>\n",
       "      <th>3</th>\n",
       "      <td>653063</td>\n",
       "      <td>200.00</td>\n",
       "      <td>200.00</td>\n",
       "      <td>Embroidery</td>\n",
       "      <td>Arts</td>\n",
       "      <td>to purchase an embroidery machine and a variet...</td>\n",
       "      <td>Pakistan</td>\n",
       "      <td>Lahore</td>\n",
       "      <td>PKR</td>\n",
       "      <td>247.00</td>\n",
       "      <td>2014-01-01 08:03:11+00:00</td>\n",
       "      <td>2014-01-01 13:00:00+00:00</td>\n",
       "      <td>11.00</td>\n",
       "      <td>8</td>\n",
       "      <td>irregular</td>\n",
       "    </tr>\n",
       "    <tr>\n",
       "      <th>4</th>\n",
       "      <td>653084</td>\n",
       "      <td>400.00</td>\n",
       "      <td>400.00</td>\n",
       "      <td>Milk Sales</td>\n",
       "      <td>Food</td>\n",
       "      <td>to purchase one buffalo.</td>\n",
       "      <td>Pakistan</td>\n",
       "      <td>Abdul Hakeem</td>\n",
       "      <td>PKR</td>\n",
       "      <td>245.00</td>\n",
       "      <td>2014-01-01 11:53:19+00:00</td>\n",
       "      <td>2014-01-01 19:18:51+00:00</td>\n",
       "      <td>14.00</td>\n",
       "      <td>16</td>\n",
       "      <td>monthly</td>\n",
       "    </tr>\n",
       "  </tbody>\n",
       "</table>\n",
       "</div>"
      ],
      "text/plain": [
       "       id  funded_amount  loan_amount             activity          sector  \\\n",
       "0  653051         300.00       300.00  Fruits & Vegetables            Food   \n",
       "1  653053         575.00       575.00             Rickshaw  Transportation   \n",
       "2  653068         150.00       150.00       Transportation  Transportation   \n",
       "3  653063         200.00       200.00           Embroidery            Arts   \n",
       "4  653084         400.00       400.00           Milk Sales            Food   \n",
       "\n",
       "                                                 use   country        region  \\\n",
       "0            To buy seasonal, fresh fruits to sell.   Pakistan        Lahore   \n",
       "1  to repair and maintain the auto rickshaw used ...  Pakistan        Lahore   \n",
       "2  To repair their old cycle-van and buy another ...     India     Maynaguri   \n",
       "3  to purchase an embroidery machine and a variet...  Pakistan        Lahore   \n",
       "4                           to purchase one buffalo.  Pakistan  Abdul Hakeem   \n",
       "\n",
       "  currency partner_id               posted_time               funded_time  \\\n",
       "0      PKR     247.00 2014-01-01 06:12:39+00:00 2014-01-02 10:06:32+00:00   \n",
       "1      PKR     247.00 2014-01-01 06:51:08+00:00 2014-01-02 09:17:23+00:00   \n",
       "2      INR     334.00 2014-01-01 09:58:07+00:00 2014-01-01 16:01:36+00:00   \n",
       "3      PKR     247.00 2014-01-01 08:03:11+00:00 2014-01-01 13:00:00+00:00   \n",
       "4      PKR     245.00 2014-01-01 11:53:19+00:00 2014-01-01 19:18:51+00:00   \n",
       "\n",
       "   term_in_months  lender_count repayment_interval  \n",
       "0           12.00            12          irregular  \n",
       "1           11.00            14          irregular  \n",
       "2           43.00             6             bullet  \n",
       "3           11.00             8          irregular  \n",
       "4           14.00            16            monthly  "
      ]
     },
     "execution_count": 172,
     "metadata": {},
     "output_type": "execute_result"
    }
   ],
   "source": [
    "df.head()"
   ]
  },
  {
   "cell_type": "markdown",
   "metadata": {},
   "source": [
    "Next thing, to make the dictionary of currenct code and currency list in df2."
   ]
  },
  {
   "cell_type": "code",
   "execution_count": 173,
   "metadata": {},
   "outputs": [],
   "source": [
    "currency_code_2 = df2[\"Code\"].to_list() # keys\n",
    "currency_name_2 = df2[\"Currency\"].to_list() # values\n",
    "currency_2 = {k:v for k,v in zip(currency_code_2, currency_name_2)} # dictionary comprehension"
   ]
  },
  {
   "cell_type": "markdown",
   "metadata": {},
   "source": [
    "Applying the new column into the df."
   ]
  },
  {
   "cell_type": "code",
   "execution_count": 174,
   "metadata": {},
   "outputs": [],
   "source": [
    "df[\"currency_name\"] = df[\"currency\"].apply(lambda x: currency_2.get(x, \"Unknown\")) "
   ]
  },
  {
   "cell_type": "code",
   "execution_count": 175,
   "metadata": {},
   "outputs": [
    {
     "data": {
      "text/html": [
       "<div>\n",
       "<style scoped>\n",
       "    .dataframe tbody tr th:only-of-type {\n",
       "        vertical-align: middle;\n",
       "    }\n",
       "\n",
       "    .dataframe tbody tr th {\n",
       "        vertical-align: top;\n",
       "    }\n",
       "\n",
       "    .dataframe thead th {\n",
       "        text-align: right;\n",
       "    }\n",
       "</style>\n",
       "<table border=\"1\" class=\"dataframe\">\n",
       "  <thead>\n",
       "    <tr style=\"text-align: right;\">\n",
       "      <th></th>\n",
       "      <th>id</th>\n",
       "      <th>funded_amount</th>\n",
       "      <th>loan_amount</th>\n",
       "      <th>activity</th>\n",
       "      <th>sector</th>\n",
       "      <th>use</th>\n",
       "      <th>country</th>\n",
       "      <th>region</th>\n",
       "      <th>currency</th>\n",
       "      <th>partner_id</th>\n",
       "      <th>posted_time</th>\n",
       "      <th>funded_time</th>\n",
       "      <th>term_in_months</th>\n",
       "      <th>lender_count</th>\n",
       "      <th>repayment_interval</th>\n",
       "      <th>currency_name</th>\n",
       "    </tr>\n",
       "  </thead>\n",
       "  <tbody>\n",
       "    <tr>\n",
       "      <th>0</th>\n",
       "      <td>653051</td>\n",
       "      <td>300.00</td>\n",
       "      <td>300.00</td>\n",
       "      <td>Fruits &amp; Vegetables</td>\n",
       "      <td>Food</td>\n",
       "      <td>To buy seasonal, fresh fruits to sell.</td>\n",
       "      <td>Pakistan</td>\n",
       "      <td>Lahore</td>\n",
       "      <td>PKR</td>\n",
       "      <td>247.00</td>\n",
       "      <td>2014-01-01 06:12:39+00:00</td>\n",
       "      <td>2014-01-02 10:06:32+00:00</td>\n",
       "      <td>12.00</td>\n",
       "      <td>12</td>\n",
       "      <td>irregular</td>\n",
       "      <td>Pakistan Rupee</td>\n",
       "    </tr>\n",
       "    <tr>\n",
       "      <th>1</th>\n",
       "      <td>653053</td>\n",
       "      <td>575.00</td>\n",
       "      <td>575.00</td>\n",
       "      <td>Rickshaw</td>\n",
       "      <td>Transportation</td>\n",
       "      <td>to repair and maintain the auto rickshaw used ...</td>\n",
       "      <td>Pakistan</td>\n",
       "      <td>Lahore</td>\n",
       "      <td>PKR</td>\n",
       "      <td>247.00</td>\n",
       "      <td>2014-01-01 06:51:08+00:00</td>\n",
       "      <td>2014-01-02 09:17:23+00:00</td>\n",
       "      <td>11.00</td>\n",
       "      <td>14</td>\n",
       "      <td>irregular</td>\n",
       "      <td>Pakistan Rupee</td>\n",
       "    </tr>\n",
       "    <tr>\n",
       "      <th>2</th>\n",
       "      <td>653068</td>\n",
       "      <td>150.00</td>\n",
       "      <td>150.00</td>\n",
       "      <td>Transportation</td>\n",
       "      <td>Transportation</td>\n",
       "      <td>To repair their old cycle-van and buy another ...</td>\n",
       "      <td>India</td>\n",
       "      <td>Maynaguri</td>\n",
       "      <td>INR</td>\n",
       "      <td>334.00</td>\n",
       "      <td>2014-01-01 09:58:07+00:00</td>\n",
       "      <td>2014-01-01 16:01:36+00:00</td>\n",
       "      <td>43.00</td>\n",
       "      <td>6</td>\n",
       "      <td>bullet</td>\n",
       "      <td>Indian Rupee</td>\n",
       "    </tr>\n",
       "    <tr>\n",
       "      <th>3</th>\n",
       "      <td>653063</td>\n",
       "      <td>200.00</td>\n",
       "      <td>200.00</td>\n",
       "      <td>Embroidery</td>\n",
       "      <td>Arts</td>\n",
       "      <td>to purchase an embroidery machine and a variet...</td>\n",
       "      <td>Pakistan</td>\n",
       "      <td>Lahore</td>\n",
       "      <td>PKR</td>\n",
       "      <td>247.00</td>\n",
       "      <td>2014-01-01 08:03:11+00:00</td>\n",
       "      <td>2014-01-01 13:00:00+00:00</td>\n",
       "      <td>11.00</td>\n",
       "      <td>8</td>\n",
       "      <td>irregular</td>\n",
       "      <td>Pakistan Rupee</td>\n",
       "    </tr>\n",
       "    <tr>\n",
       "      <th>4</th>\n",
       "      <td>653084</td>\n",
       "      <td>400.00</td>\n",
       "      <td>400.00</td>\n",
       "      <td>Milk Sales</td>\n",
       "      <td>Food</td>\n",
       "      <td>to purchase one buffalo.</td>\n",
       "      <td>Pakistan</td>\n",
       "      <td>Abdul Hakeem</td>\n",
       "      <td>PKR</td>\n",
       "      <td>245.00</td>\n",
       "      <td>2014-01-01 11:53:19+00:00</td>\n",
       "      <td>2014-01-01 19:18:51+00:00</td>\n",
       "      <td>14.00</td>\n",
       "      <td>16</td>\n",
       "      <td>monthly</td>\n",
       "      <td>Pakistan Rupee</td>\n",
       "    </tr>\n",
       "  </tbody>\n",
       "</table>\n",
       "</div>"
      ],
      "text/plain": [
       "       id  funded_amount  loan_amount             activity          sector  \\\n",
       "0  653051         300.00       300.00  Fruits & Vegetables            Food   \n",
       "1  653053         575.00       575.00             Rickshaw  Transportation   \n",
       "2  653068         150.00       150.00       Transportation  Transportation   \n",
       "3  653063         200.00       200.00           Embroidery            Arts   \n",
       "4  653084         400.00       400.00           Milk Sales            Food   \n",
       "\n",
       "                                                 use   country        region  \\\n",
       "0            To buy seasonal, fresh fruits to sell.   Pakistan        Lahore   \n",
       "1  to repair and maintain the auto rickshaw used ...  Pakistan        Lahore   \n",
       "2  To repair their old cycle-van and buy another ...     India     Maynaguri   \n",
       "3  to purchase an embroidery machine and a variet...  Pakistan        Lahore   \n",
       "4                           to purchase one buffalo.  Pakistan  Abdul Hakeem   \n",
       "\n",
       "  currency partner_id               posted_time               funded_time  \\\n",
       "0      PKR     247.00 2014-01-01 06:12:39+00:00 2014-01-02 10:06:32+00:00   \n",
       "1      PKR     247.00 2014-01-01 06:51:08+00:00 2014-01-02 09:17:23+00:00   \n",
       "2      INR     334.00 2014-01-01 09:58:07+00:00 2014-01-01 16:01:36+00:00   \n",
       "3      PKR     247.00 2014-01-01 08:03:11+00:00 2014-01-01 13:00:00+00:00   \n",
       "4      PKR     245.00 2014-01-01 11:53:19+00:00 2014-01-01 19:18:51+00:00   \n",
       "\n",
       "   term_in_months  lender_count repayment_interval   currency_name  \n",
       "0           12.00            12          irregular  Pakistan Rupee  \n",
       "1           11.00            14          irregular  Pakistan Rupee  \n",
       "2           43.00             6             bullet    Indian Rupee  \n",
       "3           11.00             8          irregular  Pakistan Rupee  \n",
       "4           14.00            16            monthly  Pakistan Rupee  "
      ]
     },
     "execution_count": 175,
     "metadata": {},
     "output_type": "execute_result"
    }
   ],
   "source": [
    "df.head()"
   ]
  },
  {
   "cell_type": "markdown",
   "metadata": {},
   "source": [
    "Finally, we can see that the new `currency_name` is now appeared."
   ]
  },
  {
   "cell_type": "markdown",
   "metadata": {},
   "source": [
    "### e. Validating"
   ]
  },
  {
   "cell_type": "markdown",
   "metadata": {},
   "source": [
    "While looking on the Kiva Dataset, we noticed that the repayment_interval is a lower case string. If we see other columns, the first character of the string starts with capital."
   ]
  },
  {
   "cell_type": "code",
   "execution_count": 176,
   "metadata": {},
   "outputs": [
    {
     "data": {
      "text/html": [
       "<div>\n",
       "<style scoped>\n",
       "    .dataframe tbody tr th:only-of-type {\n",
       "        vertical-align: middle;\n",
       "    }\n",
       "\n",
       "    .dataframe tbody tr th {\n",
       "        vertical-align: top;\n",
       "    }\n",
       "\n",
       "    .dataframe thead th {\n",
       "        text-align: right;\n",
       "    }\n",
       "</style>\n",
       "<table border=\"1\" class=\"dataframe\">\n",
       "  <thead>\n",
       "    <tr style=\"text-align: right;\">\n",
       "      <th></th>\n",
       "      <th>id</th>\n",
       "      <th>funded_amount</th>\n",
       "      <th>loan_amount</th>\n",
       "      <th>activity</th>\n",
       "      <th>sector</th>\n",
       "      <th>use</th>\n",
       "      <th>country</th>\n",
       "      <th>region</th>\n",
       "      <th>currency</th>\n",
       "      <th>partner_id</th>\n",
       "      <th>posted_time</th>\n",
       "      <th>funded_time</th>\n",
       "      <th>term_in_months</th>\n",
       "      <th>lender_count</th>\n",
       "      <th>repayment_interval</th>\n",
       "      <th>currency_name</th>\n",
       "    </tr>\n",
       "  </thead>\n",
       "  <tbody>\n",
       "    <tr>\n",
       "      <th>0</th>\n",
       "      <td>653051</td>\n",
       "      <td>300.00</td>\n",
       "      <td>300.00</td>\n",
       "      <td>Fruits &amp; Vegetables</td>\n",
       "      <td>Food</td>\n",
       "      <td>To buy seasonal, fresh fruits to sell.</td>\n",
       "      <td>Pakistan</td>\n",
       "      <td>Lahore</td>\n",
       "      <td>PKR</td>\n",
       "      <td>247.00</td>\n",
       "      <td>2014-01-01 06:12:39+00:00</td>\n",
       "      <td>2014-01-02 10:06:32+00:00</td>\n",
       "      <td>12.00</td>\n",
       "      <td>12</td>\n",
       "      <td>irregular</td>\n",
       "      <td>Pakistan Rupee</td>\n",
       "    </tr>\n",
       "    <tr>\n",
       "      <th>1</th>\n",
       "      <td>653053</td>\n",
       "      <td>575.00</td>\n",
       "      <td>575.00</td>\n",
       "      <td>Rickshaw</td>\n",
       "      <td>Transportation</td>\n",
       "      <td>to repair and maintain the auto rickshaw used ...</td>\n",
       "      <td>Pakistan</td>\n",
       "      <td>Lahore</td>\n",
       "      <td>PKR</td>\n",
       "      <td>247.00</td>\n",
       "      <td>2014-01-01 06:51:08+00:00</td>\n",
       "      <td>2014-01-02 09:17:23+00:00</td>\n",
       "      <td>11.00</td>\n",
       "      <td>14</td>\n",
       "      <td>irregular</td>\n",
       "      <td>Pakistan Rupee</td>\n",
       "    </tr>\n",
       "    <tr>\n",
       "      <th>2</th>\n",
       "      <td>653068</td>\n",
       "      <td>150.00</td>\n",
       "      <td>150.00</td>\n",
       "      <td>Transportation</td>\n",
       "      <td>Transportation</td>\n",
       "      <td>To repair their old cycle-van and buy another ...</td>\n",
       "      <td>India</td>\n",
       "      <td>Maynaguri</td>\n",
       "      <td>INR</td>\n",
       "      <td>334.00</td>\n",
       "      <td>2014-01-01 09:58:07+00:00</td>\n",
       "      <td>2014-01-01 16:01:36+00:00</td>\n",
       "      <td>43.00</td>\n",
       "      <td>6</td>\n",
       "      <td>bullet</td>\n",
       "      <td>Indian Rupee</td>\n",
       "    </tr>\n",
       "    <tr>\n",
       "      <th>3</th>\n",
       "      <td>653063</td>\n",
       "      <td>200.00</td>\n",
       "      <td>200.00</td>\n",
       "      <td>Embroidery</td>\n",
       "      <td>Arts</td>\n",
       "      <td>to purchase an embroidery machine and a variet...</td>\n",
       "      <td>Pakistan</td>\n",
       "      <td>Lahore</td>\n",
       "      <td>PKR</td>\n",
       "      <td>247.00</td>\n",
       "      <td>2014-01-01 08:03:11+00:00</td>\n",
       "      <td>2014-01-01 13:00:00+00:00</td>\n",
       "      <td>11.00</td>\n",
       "      <td>8</td>\n",
       "      <td>irregular</td>\n",
       "      <td>Pakistan Rupee</td>\n",
       "    </tr>\n",
       "    <tr>\n",
       "      <th>4</th>\n",
       "      <td>653084</td>\n",
       "      <td>400.00</td>\n",
       "      <td>400.00</td>\n",
       "      <td>Milk Sales</td>\n",
       "      <td>Food</td>\n",
       "      <td>to purchase one buffalo.</td>\n",
       "      <td>Pakistan</td>\n",
       "      <td>Abdul Hakeem</td>\n",
       "      <td>PKR</td>\n",
       "      <td>245.00</td>\n",
       "      <td>2014-01-01 11:53:19+00:00</td>\n",
       "      <td>2014-01-01 19:18:51+00:00</td>\n",
       "      <td>14.00</td>\n",
       "      <td>16</td>\n",
       "      <td>monthly</td>\n",
       "      <td>Pakistan Rupee</td>\n",
       "    </tr>\n",
       "  </tbody>\n",
       "</table>\n",
       "</div>"
      ],
      "text/plain": [
       "       id  funded_amount  loan_amount             activity          sector  \\\n",
       "0  653051         300.00       300.00  Fruits & Vegetables            Food   \n",
       "1  653053         575.00       575.00             Rickshaw  Transportation   \n",
       "2  653068         150.00       150.00       Transportation  Transportation   \n",
       "3  653063         200.00       200.00           Embroidery            Arts   \n",
       "4  653084         400.00       400.00           Milk Sales            Food   \n",
       "\n",
       "                                                 use   country        region  \\\n",
       "0            To buy seasonal, fresh fruits to sell.   Pakistan        Lahore   \n",
       "1  to repair and maintain the auto rickshaw used ...  Pakistan        Lahore   \n",
       "2  To repair their old cycle-van and buy another ...     India     Maynaguri   \n",
       "3  to purchase an embroidery machine and a variet...  Pakistan        Lahore   \n",
       "4                           to purchase one buffalo.  Pakistan  Abdul Hakeem   \n",
       "\n",
       "  currency partner_id               posted_time               funded_time  \\\n",
       "0      PKR     247.00 2014-01-01 06:12:39+00:00 2014-01-02 10:06:32+00:00   \n",
       "1      PKR     247.00 2014-01-01 06:51:08+00:00 2014-01-02 09:17:23+00:00   \n",
       "2      INR     334.00 2014-01-01 09:58:07+00:00 2014-01-01 16:01:36+00:00   \n",
       "3      PKR     247.00 2014-01-01 08:03:11+00:00 2014-01-01 13:00:00+00:00   \n",
       "4      PKR     245.00 2014-01-01 11:53:19+00:00 2014-01-01 19:18:51+00:00   \n",
       "\n",
       "   term_in_months  lender_count repayment_interval   currency_name  \n",
       "0           12.00            12          irregular  Pakistan Rupee  \n",
       "1           11.00            14          irregular  Pakistan Rupee  \n",
       "2           43.00             6             bullet    Indian Rupee  \n",
       "3           11.00             8          irregular  Pakistan Rupee  \n",
       "4           14.00            16            monthly  Pakistan Rupee  "
      ]
     },
     "execution_count": 176,
     "metadata": {},
     "output_type": "execute_result"
    }
   ],
   "source": [
    "df.head()"
   ]
  },
  {
   "cell_type": "markdown",
   "metadata": {},
   "source": [
    "So, regarding to the previous point, we will make this column more proper by change the case into Title case."
   ]
  },
  {
   "cell_type": "code",
   "execution_count": 177,
   "metadata": {},
   "outputs": [
    {
     "data": {
      "text/plain": [
       "['Irregular', 'Bullet', 'Monthly', 'Weekly']\n",
       "Categories (4, object): ['Bullet', 'Irregular', 'Monthly', 'Weekly']"
      ]
     },
     "execution_count": 177,
     "metadata": {},
     "output_type": "execute_result"
    }
   ],
   "source": [
    "df[\"repayment_interval\"] = df[\"repayment_interval\"].str.title().astype(\"category\")\n",
    "df[\"repayment_interval\"].unique()"
   ]
  },
  {
   "cell_type": "code",
   "execution_count": 178,
   "metadata": {},
   "outputs": [
    {
     "data": {
      "text/html": [
       "<div>\n",
       "<style scoped>\n",
       "    .dataframe tbody tr th:only-of-type {\n",
       "        vertical-align: middle;\n",
       "    }\n",
       "\n",
       "    .dataframe tbody tr th {\n",
       "        vertical-align: top;\n",
       "    }\n",
       "\n",
       "    .dataframe thead th {\n",
       "        text-align: right;\n",
       "    }\n",
       "</style>\n",
       "<table border=\"1\" class=\"dataframe\">\n",
       "  <thead>\n",
       "    <tr style=\"text-align: right;\">\n",
       "      <th></th>\n",
       "      <th>id</th>\n",
       "      <th>funded_amount</th>\n",
       "      <th>loan_amount</th>\n",
       "      <th>activity</th>\n",
       "      <th>sector</th>\n",
       "      <th>use</th>\n",
       "      <th>country</th>\n",
       "      <th>region</th>\n",
       "      <th>currency</th>\n",
       "      <th>partner_id</th>\n",
       "      <th>posted_time</th>\n",
       "      <th>funded_time</th>\n",
       "      <th>term_in_months</th>\n",
       "      <th>lender_count</th>\n",
       "      <th>repayment_interval</th>\n",
       "      <th>currency_name</th>\n",
       "    </tr>\n",
       "  </thead>\n",
       "  <tbody>\n",
       "    <tr>\n",
       "      <th>0</th>\n",
       "      <td>653051</td>\n",
       "      <td>300.00</td>\n",
       "      <td>300.00</td>\n",
       "      <td>Fruits &amp; Vegetables</td>\n",
       "      <td>Food</td>\n",
       "      <td>To buy seasonal, fresh fruits to sell.</td>\n",
       "      <td>Pakistan</td>\n",
       "      <td>Lahore</td>\n",
       "      <td>PKR</td>\n",
       "      <td>247.00</td>\n",
       "      <td>2014-01-01 06:12:39+00:00</td>\n",
       "      <td>2014-01-02 10:06:32+00:00</td>\n",
       "      <td>12.00</td>\n",
       "      <td>12</td>\n",
       "      <td>Irregular</td>\n",
       "      <td>Pakistan Rupee</td>\n",
       "    </tr>\n",
       "    <tr>\n",
       "      <th>1</th>\n",
       "      <td>653053</td>\n",
       "      <td>575.00</td>\n",
       "      <td>575.00</td>\n",
       "      <td>Rickshaw</td>\n",
       "      <td>Transportation</td>\n",
       "      <td>to repair and maintain the auto rickshaw used ...</td>\n",
       "      <td>Pakistan</td>\n",
       "      <td>Lahore</td>\n",
       "      <td>PKR</td>\n",
       "      <td>247.00</td>\n",
       "      <td>2014-01-01 06:51:08+00:00</td>\n",
       "      <td>2014-01-02 09:17:23+00:00</td>\n",
       "      <td>11.00</td>\n",
       "      <td>14</td>\n",
       "      <td>Irregular</td>\n",
       "      <td>Pakistan Rupee</td>\n",
       "    </tr>\n",
       "    <tr>\n",
       "      <th>2</th>\n",
       "      <td>653068</td>\n",
       "      <td>150.00</td>\n",
       "      <td>150.00</td>\n",
       "      <td>Transportation</td>\n",
       "      <td>Transportation</td>\n",
       "      <td>To repair their old cycle-van and buy another ...</td>\n",
       "      <td>India</td>\n",
       "      <td>Maynaguri</td>\n",
       "      <td>INR</td>\n",
       "      <td>334.00</td>\n",
       "      <td>2014-01-01 09:58:07+00:00</td>\n",
       "      <td>2014-01-01 16:01:36+00:00</td>\n",
       "      <td>43.00</td>\n",
       "      <td>6</td>\n",
       "      <td>Bullet</td>\n",
       "      <td>Indian Rupee</td>\n",
       "    </tr>\n",
       "    <tr>\n",
       "      <th>3</th>\n",
       "      <td>653063</td>\n",
       "      <td>200.00</td>\n",
       "      <td>200.00</td>\n",
       "      <td>Embroidery</td>\n",
       "      <td>Arts</td>\n",
       "      <td>to purchase an embroidery machine and a variet...</td>\n",
       "      <td>Pakistan</td>\n",
       "      <td>Lahore</td>\n",
       "      <td>PKR</td>\n",
       "      <td>247.00</td>\n",
       "      <td>2014-01-01 08:03:11+00:00</td>\n",
       "      <td>2014-01-01 13:00:00+00:00</td>\n",
       "      <td>11.00</td>\n",
       "      <td>8</td>\n",
       "      <td>Irregular</td>\n",
       "      <td>Pakistan Rupee</td>\n",
       "    </tr>\n",
       "    <tr>\n",
       "      <th>4</th>\n",
       "      <td>653084</td>\n",
       "      <td>400.00</td>\n",
       "      <td>400.00</td>\n",
       "      <td>Milk Sales</td>\n",
       "      <td>Food</td>\n",
       "      <td>to purchase one buffalo.</td>\n",
       "      <td>Pakistan</td>\n",
       "      <td>Abdul Hakeem</td>\n",
       "      <td>PKR</td>\n",
       "      <td>245.00</td>\n",
       "      <td>2014-01-01 11:53:19+00:00</td>\n",
       "      <td>2014-01-01 19:18:51+00:00</td>\n",
       "      <td>14.00</td>\n",
       "      <td>16</td>\n",
       "      <td>Monthly</td>\n",
       "      <td>Pakistan Rupee</td>\n",
       "    </tr>\n",
       "  </tbody>\n",
       "</table>\n",
       "</div>"
      ],
      "text/plain": [
       "       id  funded_amount  loan_amount             activity          sector  \\\n",
       "0  653051         300.00       300.00  Fruits & Vegetables            Food   \n",
       "1  653053         575.00       575.00             Rickshaw  Transportation   \n",
       "2  653068         150.00       150.00       Transportation  Transportation   \n",
       "3  653063         200.00       200.00           Embroidery            Arts   \n",
       "4  653084         400.00       400.00           Milk Sales            Food   \n",
       "\n",
       "                                                 use   country        region  \\\n",
       "0            To buy seasonal, fresh fruits to sell.   Pakistan        Lahore   \n",
       "1  to repair and maintain the auto rickshaw used ...  Pakistan        Lahore   \n",
       "2  To repair their old cycle-van and buy another ...     India     Maynaguri   \n",
       "3  to purchase an embroidery machine and a variet...  Pakistan        Lahore   \n",
       "4                           to purchase one buffalo.  Pakistan  Abdul Hakeem   \n",
       "\n",
       "  currency partner_id               posted_time               funded_time  \\\n",
       "0      PKR     247.00 2014-01-01 06:12:39+00:00 2014-01-02 10:06:32+00:00   \n",
       "1      PKR     247.00 2014-01-01 06:51:08+00:00 2014-01-02 09:17:23+00:00   \n",
       "2      INR     334.00 2014-01-01 09:58:07+00:00 2014-01-01 16:01:36+00:00   \n",
       "3      PKR     247.00 2014-01-01 08:03:11+00:00 2014-01-01 13:00:00+00:00   \n",
       "4      PKR     245.00 2014-01-01 11:53:19+00:00 2014-01-01 19:18:51+00:00   \n",
       "\n",
       "   term_in_months  lender_count repayment_interval   currency_name  \n",
       "0           12.00            12          Irregular  Pakistan Rupee  \n",
       "1           11.00            14          Irregular  Pakistan Rupee  \n",
       "2           43.00             6             Bullet    Indian Rupee  \n",
       "3           11.00             8          Irregular  Pakistan Rupee  \n",
       "4           14.00            16            Monthly  Pakistan Rupee  "
      ]
     },
     "execution_count": 178,
     "metadata": {},
     "output_type": "execute_result"
    }
   ],
   "source": [
    "df.head()"
   ]
  },
  {
   "cell_type": "markdown",
   "metadata": {},
   "source": [
    "Finally, if we see the repayment_interval, now the string is title case instead of lower case."
   ]
  },
  {
   "cell_type": "markdown",
   "metadata": {},
   "source": [
    "## 4. Exploratory Data Analysis (and The Recommendations)"
   ]
  },
  {
   "cell_type": "markdown",
   "metadata": {},
   "source": [
    "Before deep-diving into the EDA, let's see again the structure of the Kiva Dataset."
   ]
  },
  {
   "cell_type": "code",
   "execution_count": 179,
   "metadata": {},
   "outputs": [
    {
     "name": "stdout",
     "output_type": "stream",
     "text": [
      "<class 'pandas.core.frame.DataFrame'>\n",
      "RangeIndex: 671205 entries, 0 to 671204\n",
      "Data columns (total 16 columns):\n",
      " #   Column              Non-Null Count   Dtype              \n",
      "---  ------              --------------   -----              \n",
      " 0   id                  671205 non-null  category           \n",
      " 1   funded_amount       671205 non-null  float64            \n",
      " 2   loan_amount         671205 non-null  float64            \n",
      " 3   activity            671205 non-null  category           \n",
      " 4   sector              671205 non-null  category           \n",
      " 5   use                 671205 non-null  object             \n",
      " 6   country             671205 non-null  category           \n",
      " 7   region              671205 non-null  category           \n",
      " 8   currency            671205 non-null  category           \n",
      " 9   partner_id          671205 non-null  category           \n",
      " 10  posted_time         671205 non-null  datetime64[ns, UTC]\n",
      " 11  funded_time         671205 non-null  datetime64[ns, UTC]\n",
      " 12  term_in_months      671205 non-null  float64            \n",
      " 13  lender_count        671205 non-null  int64              \n",
      " 14  repayment_interval  671205 non-null  category           \n",
      " 15  currency_name       671205 non-null  category           \n",
      "dtypes: category(9), datetime64[ns, UTC](2), float64(3), int64(1), object(1)\n",
      "memory usage: 67.3+ MB\n"
     ]
    }
   ],
   "source": [
    "df.info()"
   ]
  },
  {
   "cell_type": "code",
   "execution_count": 180,
   "metadata": {},
   "outputs": [
    {
     "data": {
      "text/html": [
       "<div>\n",
       "<style scoped>\n",
       "    .dataframe tbody tr th:only-of-type {\n",
       "        vertical-align: middle;\n",
       "    }\n",
       "\n",
       "    .dataframe tbody tr th {\n",
       "        vertical-align: top;\n",
       "    }\n",
       "\n",
       "    .dataframe thead th {\n",
       "        text-align: right;\n",
       "    }\n",
       "</style>\n",
       "<table border=\"1\" class=\"dataframe\">\n",
       "  <thead>\n",
       "    <tr style=\"text-align: right;\">\n",
       "      <th></th>\n",
       "      <th>funded_amount</th>\n",
       "      <th>loan_amount</th>\n",
       "      <th>term_in_months</th>\n",
       "      <th>lender_count</th>\n",
       "    </tr>\n",
       "  </thead>\n",
       "  <tbody>\n",
       "    <tr>\n",
       "      <th>count</th>\n",
       "      <td>671205.00</td>\n",
       "      <td>671205.00</td>\n",
       "      <td>671205.00</td>\n",
       "      <td>671205.00</td>\n",
       "    </tr>\n",
       "    <tr>\n",
       "      <th>mean</th>\n",
       "      <td>786.00</td>\n",
       "      <td>842.40</td>\n",
       "      <td>13.74</td>\n",
       "      <td>20.59</td>\n",
       "    </tr>\n",
       "    <tr>\n",
       "      <th>std</th>\n",
       "      <td>1130.40</td>\n",
       "      <td>1198.66</td>\n",
       "      <td>8.60</td>\n",
       "      <td>28.46</td>\n",
       "    </tr>\n",
       "    <tr>\n",
       "      <th>min</th>\n",
       "      <td>0.00</td>\n",
       "      <td>25.00</td>\n",
       "      <td>1.00</td>\n",
       "      <td>0.00</td>\n",
       "    </tr>\n",
       "    <tr>\n",
       "      <th>25%</th>\n",
       "      <td>250.00</td>\n",
       "      <td>275.00</td>\n",
       "      <td>8.00</td>\n",
       "      <td>7.00</td>\n",
       "    </tr>\n",
       "    <tr>\n",
       "      <th>50%</th>\n",
       "      <td>450.00</td>\n",
       "      <td>500.00</td>\n",
       "      <td>13.00</td>\n",
       "      <td>13.00</td>\n",
       "    </tr>\n",
       "    <tr>\n",
       "      <th>75%</th>\n",
       "      <td>900.00</td>\n",
       "      <td>1000.00</td>\n",
       "      <td>14.00</td>\n",
       "      <td>24.00</td>\n",
       "    </tr>\n",
       "    <tr>\n",
       "      <th>max</th>\n",
       "      <td>100000.00</td>\n",
       "      <td>100000.00</td>\n",
       "      <td>158.00</td>\n",
       "      <td>2986.00</td>\n",
       "    </tr>\n",
       "  </tbody>\n",
       "</table>\n",
       "</div>"
      ],
      "text/plain": [
       "       funded_amount  loan_amount  term_in_months  lender_count\n",
       "count      671205.00    671205.00       671205.00     671205.00\n",
       "mean          786.00       842.40           13.74         20.59\n",
       "std          1130.40      1198.66            8.60         28.46\n",
       "min             0.00        25.00            1.00          0.00\n",
       "25%           250.00       275.00            8.00          7.00\n",
       "50%           450.00       500.00           13.00         13.00\n",
       "75%           900.00      1000.00           14.00         24.00\n",
       "max        100000.00    100000.00          158.00       2986.00"
      ]
     },
     "execution_count": 180,
     "metadata": {},
     "output_type": "execute_result"
    }
   ],
   "source": [
    "df.describe()"
   ]
  },
  {
   "cell_type": "code",
   "execution_count": 181,
   "metadata": {},
   "outputs": [
    {
     "data": {
      "text/html": [
       "<div>\n",
       "<style scoped>\n",
       "    .dataframe tbody tr th:only-of-type {\n",
       "        vertical-align: middle;\n",
       "    }\n",
       "\n",
       "    .dataframe tbody tr th {\n",
       "        vertical-align: top;\n",
       "    }\n",
       "\n",
       "    .dataframe thead th {\n",
       "        text-align: right;\n",
       "    }\n",
       "</style>\n",
       "<table border=\"1\" class=\"dataframe\">\n",
       "  <thead>\n",
       "    <tr style=\"text-align: right;\">\n",
       "      <th></th>\n",
       "      <th>id</th>\n",
       "      <th>activity</th>\n",
       "      <th>sector</th>\n",
       "      <th>use</th>\n",
       "      <th>country</th>\n",
       "      <th>region</th>\n",
       "      <th>currency</th>\n",
       "      <th>partner_id</th>\n",
       "      <th>repayment_interval</th>\n",
       "      <th>currency_name</th>\n",
       "    </tr>\n",
       "  </thead>\n",
       "  <tbody>\n",
       "    <tr>\n",
       "      <th>count</th>\n",
       "      <td>671205</td>\n",
       "      <td>671205</td>\n",
       "      <td>671205</td>\n",
       "      <td>671205</td>\n",
       "      <td>671205</td>\n",
       "      <td>671205</td>\n",
       "      <td>671205</td>\n",
       "      <td>671205.00</td>\n",
       "      <td>671205</td>\n",
       "      <td>671205</td>\n",
       "    </tr>\n",
       "    <tr>\n",
       "      <th>unique</th>\n",
       "      <td>671205</td>\n",
       "      <td>163</td>\n",
       "      <td>15</td>\n",
       "      <td>424913</td>\n",
       "      <td>87</td>\n",
       "      <td>12696</td>\n",
       "      <td>67</td>\n",
       "      <td>367.00</td>\n",
       "      <td>4</td>\n",
       "      <td>67</td>\n",
       "    </tr>\n",
       "    <tr>\n",
       "      <th>top</th>\n",
       "      <td>653047</td>\n",
       "      <td>Farming</td>\n",
       "      <td>Agriculture</td>\n",
       "      <td>to buy a water filter to provide safe drinking...</td>\n",
       "      <td>Philippines</td>\n",
       "      <td>Not Available</td>\n",
       "      <td>PHP</td>\n",
       "      <td>145.00</td>\n",
       "      <td>Monthly</td>\n",
       "      <td>Philippine Peso</td>\n",
       "    </tr>\n",
       "    <tr>\n",
       "      <th>freq</th>\n",
       "      <td>1</td>\n",
       "      <td>72955</td>\n",
       "      <td>180302</td>\n",
       "      <td>5217</td>\n",
       "      <td>160441</td>\n",
       "      <td>56800</td>\n",
       "      <td>160440</td>\n",
       "      <td>107188.00</td>\n",
       "      <td>342717</td>\n",
       "      <td>160440</td>\n",
       "    </tr>\n",
       "  </tbody>\n",
       "</table>\n",
       "</div>"
      ],
      "text/plain": [
       "            id activity       sector  \\\n",
       "count   671205   671205       671205   \n",
       "unique  671205      163           15   \n",
       "top     653047  Farming  Agriculture   \n",
       "freq         1    72955       180302   \n",
       "\n",
       "                                                      use      country  \\\n",
       "count                                              671205       671205   \n",
       "unique                                             424913           87   \n",
       "top     to buy a water filter to provide safe drinking...  Philippines   \n",
       "freq                                                 5217       160441   \n",
       "\n",
       "               region currency  partner_id repayment_interval    currency_name  \n",
       "count          671205   671205   671205.00             671205           671205  \n",
       "unique          12696       67      367.00                  4               67  \n",
       "top     Not Available      PHP      145.00            Monthly  Philippine Peso  \n",
       "freq            56800   160440   107188.00             342717           160440  "
      ]
     },
     "execution_count": 181,
     "metadata": {},
     "output_type": "execute_result"
    }
   ],
   "source": [
    "df.describe(include=[\"category\",\"object\"])"
   ]
  },
  {
   "cell_type": "code",
   "execution_count": 182,
   "metadata": {},
   "outputs": [
    {
     "data": {
      "text/html": [
       "<div>\n",
       "<style scoped>\n",
       "    .dataframe tbody tr th:only-of-type {\n",
       "        vertical-align: middle;\n",
       "    }\n",
       "\n",
       "    .dataframe tbody tr th {\n",
       "        vertical-align: top;\n",
       "    }\n",
       "\n",
       "    .dataframe thead th {\n",
       "        text-align: right;\n",
       "    }\n",
       "</style>\n",
       "<table border=\"1\" class=\"dataframe\">\n",
       "  <thead>\n",
       "    <tr style=\"text-align: right;\">\n",
       "      <th></th>\n",
       "      <th>posted_time</th>\n",
       "      <th>funded_time</th>\n",
       "    </tr>\n",
       "  </thead>\n",
       "  <tbody>\n",
       "    <tr>\n",
       "      <th>count</th>\n",
       "      <td>671205</td>\n",
       "      <td>671205</td>\n",
       "    </tr>\n",
       "    <tr>\n",
       "      <th>mean</th>\n",
       "      <td>2015-11-10 09:21:01.779441664+00:00</td>\n",
       "      <td>2007-07-16 15:10:23.134585344+00:00</td>\n",
       "    </tr>\n",
       "    <tr>\n",
       "      <th>min</th>\n",
       "      <td>2014-01-01 04:49:26+00:00</td>\n",
       "      <td>1900-01-01 00:00:00+00:00</td>\n",
       "    </tr>\n",
       "    <tr>\n",
       "      <th>25%</th>\n",
       "      <td>2014-12-17 13:02:38+00:00</td>\n",
       "      <td>2014-10-17 17:46:14+00:00</td>\n",
       "    </tr>\n",
       "    <tr>\n",
       "      <th>50%</th>\n",
       "      <td>2015-11-20 15:46:13+00:00</td>\n",
       "      <td>2015-10-16 01:32:19+00:00</td>\n",
       "    </tr>\n",
       "    <tr>\n",
       "      <th>75%</th>\n",
       "      <td>2016-10-06 07:24:48+00:00</td>\n",
       "      <td>2016-09-21 22:24:02+00:00</td>\n",
       "    </tr>\n",
       "    <tr>\n",
       "      <th>max</th>\n",
       "      <td>2017-07-26 06:31:46+00:00</td>\n",
       "      <td>2017-07-26 02:09:43+00:00</td>\n",
       "    </tr>\n",
       "  </tbody>\n",
       "</table>\n",
       "</div>"
      ],
      "text/plain": [
       "                               posted_time  \\\n",
       "count                               671205   \n",
       "mean   2015-11-10 09:21:01.779441664+00:00   \n",
       "min              2014-01-01 04:49:26+00:00   \n",
       "25%              2014-12-17 13:02:38+00:00   \n",
       "50%              2015-11-20 15:46:13+00:00   \n",
       "75%              2016-10-06 07:24:48+00:00   \n",
       "max              2017-07-26 06:31:46+00:00   \n",
       "\n",
       "                               funded_time  \n",
       "count                               671205  \n",
       "mean   2007-07-16 15:10:23.134585344+00:00  \n",
       "min              1900-01-01 00:00:00+00:00  \n",
       "25%              2014-10-17 17:46:14+00:00  \n",
       "50%              2015-10-16 01:32:19+00:00  \n",
       "75%              2016-09-21 22:24:02+00:00  \n",
       "max              2017-07-26 02:09:43+00:00  "
      ]
     },
     "execution_count": 182,
     "metadata": {},
     "output_type": "execute_result"
    }
   ],
   "source": [
    "df.describe(include=\"datetime64[ns, UTC]\")"
   ]
  },
  {
   "cell_type": "markdown",
   "metadata": {},
   "source": [
    "### 1. Which activity is the most crowdfunded ?"
   ]
  },
  {
   "cell_type": "code",
   "execution_count": 183,
   "metadata": {},
   "outputs": [
    {
     "data": {
      "text/html": [
       "<div>\n",
       "<style scoped>\n",
       "    .dataframe tbody tr th:only-of-type {\n",
       "        vertical-align: middle;\n",
       "    }\n",
       "\n",
       "    .dataframe tbody tr th {\n",
       "        vertical-align: top;\n",
       "    }\n",
       "\n",
       "    .dataframe thead th {\n",
       "        text-align: right;\n",
       "    }\n",
       "</style>\n",
       "<table border=\"1\" class=\"dataframe\">\n",
       "  <thead>\n",
       "    <tr style=\"text-align: right;\">\n",
       "      <th></th>\n",
       "      <th>Activity</th>\n",
       "      <th>Count of Transactions</th>\n",
       "      <th>%</th>\n",
       "    </tr>\n",
       "  </thead>\n",
       "  <tbody>\n",
       "    <tr>\n",
       "      <th>57</th>\n",
       "      <td>Farming</td>\n",
       "      <td>72955</td>\n",
       "      <td>32.00</td>\n",
       "    </tr>\n",
       "    <tr>\n",
       "      <th>72</th>\n",
       "      <td>General Store</td>\n",
       "      <td>64729</td>\n",
       "      <td>29.00</td>\n",
       "    </tr>\n",
       "    <tr>\n",
       "      <th>112</th>\n",
       "      <td>Personal Housing Expenses</td>\n",
       "      <td>32448</td>\n",
       "      <td>14.00</td>\n",
       "    </tr>\n",
       "    <tr>\n",
       "      <th>65</th>\n",
       "      <td>Food Production/Sales</td>\n",
       "      <td>28106</td>\n",
       "      <td>12.00</td>\n",
       "    </tr>\n",
       "    <tr>\n",
       "      <th>1</th>\n",
       "      <td>Agriculture</td>\n",
       "      <td>27023</td>\n",
       "      <td>12.00</td>\n",
       "    </tr>\n",
       "  </tbody>\n",
       "</table>\n",
       "</div>"
      ],
      "text/plain": [
       "                      Activity  Count of Transactions     %\n",
       "57                     Farming                  72955 32.00\n",
       "72               General Store                  64729 29.00\n",
       "112  Personal Housing Expenses                  32448 14.00\n",
       "65       Food Production/Sales                  28106 12.00\n",
       "1                  Agriculture                  27023 12.00"
      ]
     },
     "execution_count": 183,
     "metadata": {},
     "output_type": "execute_result"
    }
   ],
   "source": [
    "insight = df.pivot_table(index=\"activity\", values=\"id\", observed=False, aggfunc=\"count\").reset_index()\n",
    "insight = insight.rename(columns={\"activity\":\"Activity\", \"id\":\"Count of Transactions\"})\n",
    "insight[\"Activity\"] = insight[\"Activity\"].astype(\"object\")\n",
    "insight = insight.sort_values(\"Count of Transactions\", ascending=False).head()\n",
    "insight[\"%\"] = insight[\"Count of Transactions\"] / sum(insight[\"Count of Transactions\"]) * 100\n",
    "insight[\"%\"] = round(insight[\"%\"],0)\n",
    "insight"
   ]
  },
  {
   "cell_type": "code",
   "execution_count": 184,
   "metadata": {},
   "outputs": [
    {
     "data": {
      "image/png": "[encoded data removed]",
      "text/plain": [
       "<Figure size 640x480 with 1 Axes>"
      ]
     },
     "metadata": {},
     "output_type": "display_data"
    }
   ],
   "source": [
    "ax = sns.barplot(insight,x=\"%\", y=\"Activity\", hue=\"Activity\", orient=\"h\", palette=\"viridis\")\n",
    "plt.title(\"Top 5 Most Crowdfunded Activities (in Percentage)\")\n",
    "for container in ax.containers:\n",
    "    ax.bar_label(container, fmt=\"%.0f%%\")\n",
    "plt.xlabel(\"Percentage (%)\")\n",
    "plt.show()"
   ]
  },
  {
   "cell_type": "markdown",
   "metadata": {},
   "source": [
    "Farming is the most crowdfunded activities, followed by General Store, Personal Housing Expenses, Food Production/Sales, and Agriculture. By focusing on these activities, XYZ can directly address what Kiva borrowers needed."
   ]
  },
  {
   "cell_type": "markdown",
   "metadata": {},
   "source": [
    "### 2. Which sector is the most crowdfunded ?"
   ]
  },
  {
   "cell_type": "code",
   "execution_count": 185,
   "metadata": {},
   "outputs": [
    {
     "data": {
      "text/html": [
       "<div>\n",
       "<style scoped>\n",
       "    .dataframe tbody tr th:only-of-type {\n",
       "        vertical-align: middle;\n",
       "    }\n",
       "\n",
       "    .dataframe tbody tr th {\n",
       "        vertical-align: top;\n",
       "    }\n",
       "\n",
       "    .dataframe thead th {\n",
       "        text-align: right;\n",
       "    }\n",
       "</style>\n",
       "<table border=\"1\" class=\"dataframe\">\n",
       "  <thead>\n",
       "    <tr style=\"text-align: right;\">\n",
       "      <th></th>\n",
       "      <th>Sector</th>\n",
       "      <th>Count of Sector</th>\n",
       "      <th>%</th>\n",
       "    </tr>\n",
       "  </thead>\n",
       "  <tbody>\n",
       "    <tr>\n",
       "      <th>0</th>\n",
       "      <td>Agriculture</td>\n",
       "      <td>180302</td>\n",
       "      <td>34.00</td>\n",
       "    </tr>\n",
       "    <tr>\n",
       "      <th>6</th>\n",
       "      <td>Food</td>\n",
       "      <td>136657</td>\n",
       "      <td>26.00</td>\n",
       "    </tr>\n",
       "    <tr>\n",
       "      <th>11</th>\n",
       "      <td>Retail</td>\n",
       "      <td>124494</td>\n",
       "      <td>24.00</td>\n",
       "    </tr>\n",
       "    <tr>\n",
       "      <th>12</th>\n",
       "      <td>Services</td>\n",
       "      <td>45140</td>\n",
       "      <td>9.00</td>\n",
       "    </tr>\n",
       "    <tr>\n",
       "      <th>10</th>\n",
       "      <td>Personal Use</td>\n",
       "      <td>36385</td>\n",
       "      <td>7.00</td>\n",
       "    </tr>\n",
       "  </tbody>\n",
       "</table>\n",
       "</div>"
      ],
      "text/plain": [
       "          Sector  Count of Sector     %\n",
       "0    Agriculture           180302 34.00\n",
       "6           Food           136657 26.00\n",
       "11        Retail           124494 24.00\n",
       "12      Services            45140  9.00\n",
       "10  Personal Use            36385  7.00"
      ]
     },
     "execution_count": 185,
     "metadata": {},
     "output_type": "execute_result"
    }
   ],
   "source": [
    "insight = df.pivot_table(index=\"sector\", values=\"id\", observed=False, aggfunc=\"count\").reset_index()\n",
    "insight = insight.rename(columns={\"sector\":\"Sector\", \"id\":\"Count of Sector\"})\n",
    "insight[\"Sector\"] = insight[\"Sector\"].astype(\"object\")\n",
    "insight = insight.sort_values(\"Count of Sector\", ascending=False).head()\n",
    "insight[\"%\"] = insight[\"Count of Sector\"] / sum(insight[\"Count of Sector\"]) * 100\n",
    "insight[\"%\"] = round(insight[\"%\"],0)\n",
    "insight"
   ]
  },
  {
   "cell_type": "code",
   "execution_count": 186,
   "metadata": {},
   "outputs": [
    {
     "data": {
      "image/png": "[encoded data removed]",
      "text/plain": [
       "<Figure size 640x480 with 1 Axes>"
      ]
     },
     "metadata": {},
     "output_type": "display_data"
    }
   ],
   "source": [
    "ax = sns.barplot(insight,x=\"%\", y=\"Sector\", hue=\"Sector\", orient=\"h\", palette=\"viridis\")\n",
    "plt.title(\"Top 5 Most Crowdfunded Sectors (in Percentage)\")\n",
    "for container in ax.containers:\n",
    "    ax.bar_label(container, fmt=\"%.0f%%\")\n",
    "plt.xlabel(\"Percentage (%)\")\n",
    "plt.show()"
   ]
  },
  {
   "cell_type": "markdown",
   "metadata": {},
   "source": [
    "Agriculture is the most crowdfunded sectors, followed by Food, Retail, Services, and Personal Use. By breaking down the sectors, XYZ can focus on the sectors that contributing the long-term sustainability of their enterprises."
   ]
  },
  {
   "cell_type": "markdown",
   "metadata": {},
   "source": [
    "### 3. Which country is the most crowdfunded ?"
   ]
  },
  {
   "cell_type": "code",
   "execution_count": 187,
   "metadata": {},
   "outputs": [
    {
     "data": {
      "text/html": [
       "<div>\n",
       "<style scoped>\n",
       "    .dataframe tbody tr th:only-of-type {\n",
       "        vertical-align: middle;\n",
       "    }\n",
       "\n",
       "    .dataframe tbody tr th {\n",
       "        vertical-align: top;\n",
       "    }\n",
       "\n",
       "    .dataframe thead th {\n",
       "        text-align: right;\n",
       "    }\n",
       "</style>\n",
       "<table border=\"1\" class=\"dataframe\">\n",
       "  <thead>\n",
       "    <tr style=\"text-align: right;\">\n",
       "      <th></th>\n",
       "      <th>Country</th>\n",
       "      <th>Count of Transactions</th>\n",
       "      <th>%</th>\n",
       "    </tr>\n",
       "  </thead>\n",
       "  <tbody>\n",
       "    <tr>\n",
       "      <th>59</th>\n",
       "      <td>Philippines</td>\n",
       "      <td>160441</td>\n",
       "      <td>47.00</td>\n",
       "    </tr>\n",
       "    <tr>\n",
       "      <th>34</th>\n",
       "      <td>Kenya</td>\n",
       "      <td>75825</td>\n",
       "      <td>22.00</td>\n",
       "    </tr>\n",
       "    <tr>\n",
       "      <th>22</th>\n",
       "      <td>El Salvador</td>\n",
       "      <td>39875</td>\n",
       "      <td>12.00</td>\n",
       "    </tr>\n",
       "    <tr>\n",
       "      <th>11</th>\n",
       "      <td>Cambodia</td>\n",
       "      <td>34836</td>\n",
       "      <td>10.00</td>\n",
       "    </tr>\n",
       "    <tr>\n",
       "      <th>54</th>\n",
       "      <td>Pakistan</td>\n",
       "      <td>26857</td>\n",
       "      <td>8.00</td>\n",
       "    </tr>\n",
       "  </tbody>\n",
       "</table>\n",
       "</div>"
      ],
      "text/plain": [
       "        Country  Count of Transactions     %\n",
       "59  Philippines                 160441 47.00\n",
       "34        Kenya                  75825 22.00\n",
       "22  El Salvador                  39875 12.00\n",
       "11     Cambodia                  34836 10.00\n",
       "54     Pakistan                  26857  8.00"
      ]
     },
     "execution_count": 187,
     "metadata": {},
     "output_type": "execute_result"
    }
   ],
   "source": [
    "insight = df.pivot_table(index=\"country\", values=\"id\", observed=False, aggfunc=\"count\").reset_index()\n",
    "insight = insight.rename(columns={\"country\":\"Country\", \"id\":\"Count of Transactions\"})\n",
    "insight[\"Country\"] = insight[\"Country\"].astype(\"object\")\n",
    "insight = insight.sort_values(\"Count of Transactions\", ascending=False).head()\n",
    "insight[\"%\"] = insight[\"Count of Transactions\"] / sum(insight[\"Count of Transactions\"]) * 100\n",
    "insight[\"%\"] = round(insight[\"%\"],0)\n",
    "insight"
   ]
  },
  {
   "cell_type": "code",
   "execution_count": 188,
   "metadata": {},
   "outputs": [
    {
     "data": {
      "image/png": "[encoded data removed]",
      "text/plain": [
       "<Figure size 640x480 with 1 Axes>"
      ]
     },
     "metadata": {},
     "output_type": "display_data"
    }
   ],
   "source": [
    "ax = sns.barplot(insight,x=\"%\", y=\"Country\", hue=\"Country\", orient=\"h\", palette=\"viridis\")\n",
    "plt.title(\"Top 5 Most Crowdfunded Countries (in Percentage)\")\n",
    "for container in ax.containers:\n",
    "    ax.bar_label(container, fmt=\"%.0f%%\")\n",
    "plt.xlabel(\"Percentage (%)\")\n",
    "plt.show()"
   ]
  },
  {
   "cell_type": "markdown",
   "metadata": {},
   "source": [
    "Most of the crowdfunding countries take place at Philippines, followed by Kenya, El Salvador, Cambodia, and Pakistan. By knowing this insight, XYZ is able to consider to deep dive which country is suitable for their initial investments."
   ]
  },
  {
   "cell_type": "markdown",
   "metadata": {},
   "source": [
    "### 4. Which currency is the most used for crowdfunding ?"
   ]
  },
  {
   "cell_type": "code",
   "execution_count": 189,
   "metadata": {},
   "outputs": [
    {
     "data": {
      "text/html": [
       "<div>\n",
       "<style scoped>\n",
       "    .dataframe tbody tr th:only-of-type {\n",
       "        vertical-align: middle;\n",
       "    }\n",
       "\n",
       "    .dataframe tbody tr th {\n",
       "        vertical-align: top;\n",
       "    }\n",
       "\n",
       "    .dataframe thead th {\n",
       "        text-align: right;\n",
       "    }\n",
       "</style>\n",
       "<table border=\"1\" class=\"dataframe\">\n",
       "  <thead>\n",
       "    <tr style=\"text-align: right;\">\n",
       "      <th></th>\n",
       "      <th>Currency Code</th>\n",
       "      <th>Currency Name</th>\n",
       "      <th>Count of Transactions</th>\n",
       "      <th>%</th>\n",
       "    </tr>\n",
       "  </thead>\n",
       "  <tbody>\n",
       "    <tr>\n",
       "      <th>2856</th>\n",
       "      <td>PHP</td>\n",
       "      <td>Philippine Peso</td>\n",
       "      <td>160440</td>\n",
       "      <td>40.00</td>\n",
       "    </tr>\n",
       "    <tr>\n",
       "      <th>3808</th>\n",
       "      <td>USD</td>\n",
       "      <td>US Dollar</td>\n",
       "      <td>105494</td>\n",
       "      <td>27.00</td>\n",
       "    </tr>\n",
       "    <tr>\n",
       "      <th>1564</th>\n",
       "      <td>KES</td>\n",
       "      <td>Kenyan Shilling</td>\n",
       "      <td>75311</td>\n",
       "      <td>19.00</td>\n",
       "    </tr>\n",
       "    <tr>\n",
       "      <th>1700</th>\n",
       "      <td>KHR</td>\n",
       "      <td>Riel</td>\n",
       "      <td>29498</td>\n",
       "      <td>7.00</td>\n",
       "    </tr>\n",
       "    <tr>\n",
       "      <th>2924</th>\n",
       "      <td>PKR</td>\n",
       "      <td>Pakistan Rupee</td>\n",
       "      <td>26856</td>\n",
       "      <td>7.00</td>\n",
       "    </tr>\n",
       "  </tbody>\n",
       "</table>\n",
       "</div>"
      ],
      "text/plain": [
       "     Currency Code    Currency Name  Count of Transactions     %\n",
       "2856           PHP  Philippine Peso                 160440 40.00\n",
       "3808           USD        US Dollar                 105494 27.00\n",
       "1564           KES  Kenyan Shilling                  75311 19.00\n",
       "1700           KHR             Riel                  29498  7.00\n",
       "2924           PKR   Pakistan Rupee                  26856  7.00"
      ]
     },
     "execution_count": 189,
     "metadata": {},
     "output_type": "execute_result"
    }
   ],
   "source": [
    "insight = df.pivot_table(index=[\"currency\",\"currency_name\"], values=\"id\", observed=False, aggfunc=\"count\").reset_index()\n",
    "insight = insight.rename(columns={\"currency\":\"Currency Code\", \"id\":\"Count of Transactions\", \"currency_name\":\"Currency Name\"})\n",
    "insight[\"Currency Code\"] = insight[\"Currency Code\"].astype(\"object\")\n",
    "insight = insight.sort_values(\"Count of Transactions\", ascending=False).head()\n",
    "insight[\"%\"] = insight[\"Count of Transactions\"] / sum(insight[\"Count of Transactions\"]) * 100\n",
    "insight[\"%\"] = round(insight[\"%\"],0)\n",
    "insight"
   ]
  },
  {
   "cell_type": "code",
   "execution_count": 190,
   "metadata": {},
   "outputs": [
    {
     "data": {
      "image/png": "[encoded data removed]",
      "text/plain": [
       "<Figure size 640x480 with 1 Axes>"
      ]
     },
     "metadata": {},
     "output_type": "display_data"
    }
   ],
   "source": [
    "ax = sns.barplot(insight,x=\"%\", y=\"Currency Code\", hue=\"Currency Code\", orient=\"h\", palette=\"viridis\")\n",
    "plt.title(\"Top 5 Most Crowdfunded Currencies (in Percentage)\")\n",
    "for container in ax.containers:\n",
    "    ax.bar_label(container, fmt=\"%.0f%%\")\n",
    "plt.xlabel(\"Percentage (%)\")\n",
    "plt.show()"
   ]
  },
  {
   "cell_type": "markdown",
   "metadata": {},
   "source": [
    "In lining into the previous insight, PHP (Philippines Peso) is the most used currency for the crowdfunding, followed by USD (United States Dollar), KES (Kenyan Shilling), KHR (Cambodian Riel), and PKR (Pakistani Rupee). By knowing these top five currencies used on Kiva, XYZ is able to ensure to allocate the cash efficiently."
   ]
  },
  {
   "cell_type": "markdown",
   "metadata": {},
   "source": [
    "### 5. Which repayment interval is the most used for paying the crowdfunds ?"
   ]
  },
  {
   "cell_type": "code",
   "execution_count": 191,
   "metadata": {},
   "outputs": [
    {
     "data": {
      "text/html": [
       "<div>\n",
       "<style scoped>\n",
       "    .dataframe tbody tr th:only-of-type {\n",
       "        vertical-align: middle;\n",
       "    }\n",
       "\n",
       "    .dataframe tbody tr th {\n",
       "        vertical-align: top;\n",
       "    }\n",
       "\n",
       "    .dataframe thead th {\n",
       "        text-align: right;\n",
       "    }\n",
       "</style>\n",
       "<table border=\"1\" class=\"dataframe\">\n",
       "  <thead>\n",
       "    <tr style=\"text-align: right;\">\n",
       "      <th></th>\n",
       "      <th>Repayment Interval</th>\n",
       "      <th>Count of Transactions</th>\n",
       "      <th>%</th>\n",
       "    </tr>\n",
       "  </thead>\n",
       "  <tbody>\n",
       "    <tr>\n",
       "      <th>2</th>\n",
       "      <td>Monthly</td>\n",
       "      <td>342717</td>\n",
       "      <td>51.00</td>\n",
       "    </tr>\n",
       "    <tr>\n",
       "      <th>1</th>\n",
       "      <td>Irregular</td>\n",
       "      <td>257158</td>\n",
       "      <td>38.00</td>\n",
       "    </tr>\n",
       "    <tr>\n",
       "      <th>0</th>\n",
       "      <td>Bullet</td>\n",
       "      <td>70728</td>\n",
       "      <td>11.00</td>\n",
       "    </tr>\n",
       "    <tr>\n",
       "      <th>3</th>\n",
       "      <td>Weekly</td>\n",
       "      <td>602</td>\n",
       "      <td>0.00</td>\n",
       "    </tr>\n",
       "  </tbody>\n",
       "</table>\n",
       "</div>"
      ],
      "text/plain": [
       "  Repayment Interval  Count of Transactions     %\n",
       "2            Monthly                 342717 51.00\n",
       "1          Irregular                 257158 38.00\n",
       "0             Bullet                  70728 11.00\n",
       "3             Weekly                    602  0.00"
      ]
     },
     "execution_count": 191,
     "metadata": {},
     "output_type": "execute_result"
    }
   ],
   "source": [
    "insight = df.pivot_table(index=\"repayment_interval\", values=\"id\", observed=False, aggfunc=\"count\").reset_index()\n",
    "insight = insight.rename(columns={\"repayment_interval\":\"Repayment Interval\", \"id\":\"Count of Transactions\"})\n",
    "insight[\"Repayment Interval\"] = insight[\"Repayment Interval\"].astype(\"object\")\n",
    "insight = insight.sort_values(\"Count of Transactions\", ascending=False).head()\n",
    "insight[\"%\"] = insight[\"Count of Transactions\"] / sum(insight[\"Count of Transactions\"]) * 100\n",
    "insight[\"%\"] = round(insight[\"%\"],0)\n",
    "insight"
   ]
  },
  {
   "cell_type": "code",
   "execution_count": 192,
   "metadata": {},
   "outputs": [
    {
     "data": {
      "image/png": "[encoded data removed]",
      "text/plain": [
       "<Figure size 640x480 with 1 Axes>"
      ]
     },
     "metadata": {},
     "output_type": "display_data"
    }
   ],
   "source": [
    "ax = sns.barplot(insight,x=\"%\", y=\"Repayment Interval\", hue=\"Repayment Interval\", orient=\"h\", palette=\"viridis\")\n",
    "plt.title(\"Top 5 Most Crowdfunded Activities (in Percentage)\")\n",
    "for container in ax.containers:\n",
    "    ax.bar_label(container, fmt=\"%.0f%%\")\n",
    "plt.xlabel(\"Percentage (%)\")\n",
    "plt.show()"
   ]
  },
  {
   "cell_type": "markdown",
   "metadata": {},
   "source": [
    "There are only four repayment intervals, which the most popular repayment intervals starts from monthly, irregular, bullet, until weekly (which has 0%). This information gives XYZ Company insight into the repayment preferences and capacities of Kiva's borrowers."
   ]
  },
  {
   "cell_type": "markdown",
   "metadata": {},
   "source": [
    "### 6. For numeric columns, are the data normally distributed ?"
   ]
  },
  {
   "cell_type": "markdown",
   "metadata": {},
   "source": [
    "In this case, we will use the The Shapiro–Wilk test to do the normality test. This test is one of the formal test of the assumption of normality test that is recommend for general purpose. Several studies have shown that the S–W test has good statistical power against a wide variety of non-normal distributions.\n",
    "\n",
    "Ho: The data is normally distributed.\n",
    "\n",
    "Ha: The data is not normally distributed.\n",
    "\n",
    "The purpose of doing this test is to determine the correlation test. If the data is normally distributed, then we will use Pearson Correlation Test to seek the correlation between these values. Otherwise, we will use Spearman Correlation Test."
   ]
  },
  {
   "cell_type": "code",
   "execution_count": 193,
   "metadata": {},
   "outputs": [
    {
     "data": {
      "text/html": [
       "<div>\n",
       "<style scoped>\n",
       "    .dataframe tbody tr th:only-of-type {\n",
       "        vertical-align: middle;\n",
       "    }\n",
       "\n",
       "    .dataframe tbody tr th {\n",
       "        vertical-align: top;\n",
       "    }\n",
       "\n",
       "    .dataframe thead th {\n",
       "        text-align: right;\n",
       "    }\n",
       "</style>\n",
       "<table border=\"1\" class=\"dataframe\">\n",
       "  <thead>\n",
       "    <tr style=\"text-align: right;\">\n",
       "      <th></th>\n",
       "      <th>name</th>\n",
       "      <th>statistic</th>\n",
       "      <th>pvalue</th>\n",
       "      <th>alpha</th>\n",
       "      <th>reject Ho ?</th>\n",
       "    </tr>\n",
       "  </thead>\n",
       "  <tbody>\n",
       "    <tr>\n",
       "      <th>0</th>\n",
       "      <td>funded_amount</td>\n",
       "      <td>0.51</td>\n",
       "      <td>0.00</td>\n",
       "      <td>0.05</td>\n",
       "      <td>True</td>\n",
       "    </tr>\n",
       "    <tr>\n",
       "      <th>1</th>\n",
       "      <td>loan_amount</td>\n",
       "      <td>0.51</td>\n",
       "      <td>0.00</td>\n",
       "      <td>0.05</td>\n",
       "      <td>True</td>\n",
       "    </tr>\n",
       "    <tr>\n",
       "      <th>2</th>\n",
       "      <td>term_in_months</td>\n",
       "      <td>0.70</td>\n",
       "      <td>0.00</td>\n",
       "      <td>0.05</td>\n",
       "      <td>True</td>\n",
       "    </tr>\n",
       "    <tr>\n",
       "      <th>3</th>\n",
       "      <td>lender_count</td>\n",
       "      <td>0.52</td>\n",
       "      <td>0.00</td>\n",
       "      <td>0.05</td>\n",
       "      <td>True</td>\n",
       "    </tr>\n",
       "  </tbody>\n",
       "</table>\n",
       "</div>"
      ],
      "text/plain": [
       "             name  statistic  pvalue  alpha  reject Ho ?\n",
       "0   funded_amount       0.51    0.00   0.05         True\n",
       "1     loan_amount       0.51    0.00   0.05         True\n",
       "2  term_in_months       0.70    0.00   0.05         True\n",
       "3    lender_count       0.52    0.00   0.05         True"
      ]
     },
     "execution_count": 193,
     "metadata": {},
     "output_type": "execute_result"
    }
   ],
   "source": [
    "numerics = df.select_dtypes([\"float64\",\"int64\"]).columns.to_list()\n",
    "result = []\n",
    "for n in numerics:\n",
    "    result.append(shapiro(df[n]))\n",
    "result = pd.DataFrame(result)\n",
    "result.insert(0,\"name\", numerics)\n",
    "result[\"alpha\"] = 0.05\n",
    "result[\"reject Ho ?\"] = result[\"pvalue\"] <= result[\"alpha\"]\n",
    "result"
   ]
  },
  {
   "cell_type": "markdown",
   "metadata": {},
   "source": [
    "Conclusion: Reject Ho for all of numeric columns. It means that not enough evidences to state that all of these columns normally distributed."
   ]
  },
  {
   "cell_type": "markdown",
   "metadata": {},
   "source": [
    "### 7. How numeric columns correlating each other ?"
   ]
  },
  {
   "cell_type": "markdown",
   "metadata": {},
   "source": [
    "Regarding number 6, all of the numeric columns are not normally distributed. It means, to measure the correlation between them, we need to use `Spearman` test instead of `Pearson` test."
   ]
  },
  {
   "cell_type": "code",
   "execution_count": 194,
   "metadata": {},
   "outputs": [
    {
     "data": {
      "image/png": "[encoded data removed]",
      "text/plain": [
       "<Figure size 750x500 with 2 Axes>"
      ]
     },
     "metadata": {},
     "output_type": "display_data"
    }
   ],
   "source": [
    "corr = df.corr(numeric_only=True, method='spearman')\n",
    "matrix = np.triu(corr)\n",
    "plt.figure(figsize=(7.5,5))\n",
    "ax = sns.heatmap(corr, cmap=\"flare\", annot=True, mask=matrix)\n",
    "plt.show(ax)"
   ]
  },
  {
   "cell_type": "markdown",
   "metadata": {},
   "source": [
    "Based on this correlation matrix, we currently can see how strong and associative between values. No correlation (0.0-0.1), low correlation (0.1-0.3), medium correlation (0.3-0.5), high correlation (0.5-0.7), and extremely high correlation (0.7-1) are the five levels into which it can be divided. Additionally noteworthy is the correlation's direction, where a positive correlation denotes a direct association and a negative correlation denotes an inverse relationship. Of course there is absolutely no direction if the correlation coefficient is zero as stated in above. Therefore, we can conclude that for each correlations :\n",
    "- 0.94 between funded_amount and loan_amount: This indicates an extremely high positive correlation with direct association, suggesting that as the funded amount increases, the loan amount also tends to increase significantly.\n",
    "\n",
    "- 0.85 between lender_count and funded_amount: This reflects a extremely positive correlation with direct association, suggesting that as the number of lender increases, the loan amount also tends to increase significantly.\n",
    "\n",
    "- 0.79 between lender_count and loan_amount: This also shows a extremely positive correlation with direct association, suggesting that as the number of lender increases, the loan amount also tends to increase significantly.\n",
    "\n",
    "- 0.33 between lender_count and term_in_months: This indicates a medium positive correlation with direct association, suggesting that as the number of lender increases, the monthly terms also tends to increase moderately.\n",
    "\n",
    "- 0.30 between loan_amount and term_in_months: This reflects a medium positive correlation with direct association, suggesting that as the loan amount increases, the monthly terms also tends to increase moderately.\n",
    "\n",
    "- 0.24 between term_in_months and funded_amount: This shows a low positive correlation with direct association, suggesting that as the monthly terms increases, the funded amount also tends to increase slightly."
   ]
  },
  {
   "cell_type": "markdown",
   "metadata": {},
   "source": [
    "# References"
   ]
  },
  {
   "cell_type": "markdown",
   "metadata": {},
   "source": [
    "https://datatab.net/tutorial/spearman-correlation"
   ]
  },
  {
   "cell_type": "markdown",
   "metadata": {},
   "source": [
    "https://docs.1010data.com/1010dataReferenceManual/DataTypesAndFormats/currencyUnitCodes.html#topic_m4v_rt3_5r__table_k2t_fv3_5r"
   ]
  },
  {
   "cell_type": "markdown",
   "metadata": {},
   "source": [
    "https://www.dataversity.net/what-is-data-wrangling/"
   ]
  },
  {
   "cell_type": "markdown",
   "metadata": {},
   "source": [
    "https://www.ibm.com/think/topics/data-wrangling"
   ]
  },
  {
   "cell_type": "markdown",
   "metadata": {},
   "source": [
    "https://www.kaggle.com/datasets/kiva/data-science-for-good-kiva-crowdfunding/data"
   ]
  },
  {
   "cell_type": "markdown",
   "metadata": {},
   "source": [
    "https://www.sciencedirect.com/topics/mathematics/spearman-correlation"
   ]
  },
  {
   "cell_type": "markdown",
   "metadata": {},
   "source": [
    "https://www.sciencedirect.com/topics/mathematics/wilk-test"
   ]
  }
 ],
 "metadata": {
  "kernelspec": {
   "display_name": "base",
   "language": "python",
   "name": "python3"
  },
  "language_info": {
   "codemirror_mode": {
    "name": "ipython",
    "version": 3
   },
   "file_extension": ".py",
   "mimetype": "text/x-python",
   "name": "python",
   "nbconvert_exporter": "python",
   "pygments_lexer": "ipython3",
   "version": "3.12.7"
  }
 },
 "nbformat": 4,
 "nbformat_minor": 2
}
